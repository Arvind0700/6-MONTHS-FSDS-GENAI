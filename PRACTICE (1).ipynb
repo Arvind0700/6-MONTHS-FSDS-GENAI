{
 "cells": [
  {
   "cell_type": "raw",
   "id": "28390dab-db02-429e-8928-51202d35367a",
   "metadata": {},
   "source": [
    "import keyword\n",
    "keyword.kwlist"
   ]
  },
  {
   "cell_type": "code",
   "execution_count": 3,
   "id": "37d18b70-2547-43a1-a250-913347dbb62e",
   "metadata": {},
   "outputs": [
    {
     "data": {
      "text/plain": [
       "35"
      ]
     },
     "execution_count": 3,
     "metadata": {},
     "output_type": "execute_result"
    }
   ],
   "source": [
    "len(keyword.kwlist)"
   ]
  },
  {
   "cell_type": "code",
   "execution_count": 5,
   "id": "028e9bd5-53fb-4480-9069-8e727ef5a2d1",
   "metadata": {},
   "outputs": [],
   "source": [
    "prefix='ox'\n",
    "prefix='ford'"
   ]
  },
  {
   "cell_type": "code",
   "execution_count": 7,
   "id": "d8d8fa39-b8d4-4942-b6ff-8e7cd3398e06",
   "metadata": {},
   "outputs": [
    {
     "data": {
      "text/plain": [
       "'ford'"
      ]
     },
     "execution_count": 7,
     "metadata": {},
     "output_type": "execute_result"
    }
   ],
   "source": [
    "prefix"
   ]
  },
  {
   "cell_type": "code",
   "execution_count": 9,
   "id": "d7e288b9-9f51-49a9-b130-99fed6511d8d",
   "metadata": {},
   "outputs": [
    {
     "data": {
      "text/plain": [
       "'oxford'"
      ]
     },
     "execution_count": 9,
     "metadata": {},
     "output_type": "execute_result"
    }
   ],
   "source": [
    "'ox'+prefix"
   ]
  },
  {
   "cell_type": "code",
   "execution_count": 11,
   "id": "aa2843ec-304a-4472-8321-7f8fdbfd6950",
   "metadata": {},
   "outputs": [
    {
     "data": {
      "text/plain": [
       "int"
      ]
     },
     "execution_count": 11,
     "metadata": {},
     "output_type": "execute_result"
    }
   ],
   "source": [
    "i=32\n",
    "type(i)"
   ]
  },
  {
   "cell_type": "code",
   "execution_count": 13,
   "id": "68a2bbb9-11a2-4320-8040-7fce0669de18",
   "metadata": {},
   "outputs": [
    {
     "data": {
      "text/plain": [
       "float"
      ]
     },
     "execution_count": 13,
     "metadata": {},
     "output_type": "execute_result"
    }
   ],
   "source": [
    "f=213.43\n",
    "type(f)"
   ]
  },
  {
   "cell_type": "code",
   "execution_count": 15,
   "id": "33c1babb-39d4-4e5f-a669-a4e93d725b87",
   "metadata": {},
   "outputs": [
    {
     "data": {
      "text/plain": [
       "1.0"
      ]
     },
     "execution_count": 15,
     "metadata": {},
     "output_type": "execute_result"
    }
   ],
   "source": [
    "f1=1e0\n",
    "f1"
   ]
  },
  {
   "cell_type": "code",
   "execution_count": 17,
   "id": "87e414b8-6baa-489e-b37d-801b0df54937",
   "metadata": {},
   "outputs": [
    {
     "data": {
      "text/plain": [
       "10.0"
      ]
     },
     "execution_count": 17,
     "metadata": {},
     "output_type": "execute_result"
    }
   ],
   "source": [
    "f1=1e1\n",
    "f1"
   ]
  },
  {
   "cell_type": "code",
   "execution_count": 19,
   "id": "6f7520a4-8843-4dbe-a697-93e2195fa5ad",
   "metadata": {},
   "outputs": [
    {
     "data": {
      "text/plain": [
       "1000.0"
      ]
     },
     "execution_count": 19,
     "metadata": {},
     "output_type": "execute_result"
    }
   ],
   "source": [
    "f2=1E3\n",
    "f2"
   ]
  },
  {
   "cell_type": "code",
   "execution_count": 21,
   "id": "60655cd9-2d03-4e99-98c0-c18ba923aa4f",
   "metadata": {},
   "outputs": [
    {
     "name": "stdout",
     "output_type": "stream",
     "text": [
      "36\n",
      "12\n",
      "288\n",
      "2.0\n"
     ]
    }
   ],
   "source": [
    "a=24\n",
    "b=12\n",
    "print(a+b)\n",
    "print(a-b)\n",
    "print(a*b)\n",
    "print(a/b)"
   ]
  },
  {
   "cell_type": "code",
   "execution_count": 23,
   "id": "72240576-8b1a-4e71-8cc2-9d746be232f3",
   "metadata": {},
   "outputs": [
    {
     "name": "stdout",
     "output_type": "stream",
     "text": [
      "The addition of 23 and 25 is = 48\n"
     ]
    }
   ],
   "source": [
    "num1=23\n",
    "num2=25\n",
    "result=num1+num2\n",
    "print('The addition of',num1,'and',num2,'is =',result)"
   ]
  },
  {
   "cell_type": "code",
   "execution_count": 25,
   "id": "3151f456-a972-473b-acbe-fd44c0e924a7",
   "metadata": {},
   "outputs": [
    {
     "name": "stdout",
     "output_type": "stream",
     "text": [
      "the addition of 23 and 12 is = 35\n"
     ]
    }
   ],
   "source": [
    "num1=23\n",
    "num2=12\n",
    "num3=num1+num2\n",
    "print('the addition of {} and {} is = {}'.format(num1,num2,num3))"
   ]
  },
  {
   "cell_type": "code",
   "execution_count": 27,
   "id": "b5d86d00-e420-4100-a8c4-0cc8f1c70055",
   "metadata": {},
   "outputs": [
    {
     "name": "stdout",
     "output_type": "stream",
     "text": [
      "the multiplication of 4 and 20 is = 80\n"
     ]
    }
   ],
   "source": [
    "num1=4\n",
    "num2=20\n",
    "num3=num1*num2\n",
    "print('the multiplication of {} and {} is = {}'.format(num1,num2,num3))"
   ]
  },
  {
   "cell_type": "code",
   "execution_count": 29,
   "id": "9119eb0b-2446-4a9d-8fd4-3537757976ad",
   "metadata": {},
   "outputs": [
    {
     "data": {
      "text/plain": [
       "(1+4j)"
      ]
     },
     "execution_count": 29,
     "metadata": {},
     "output_type": "execute_result"
    }
   ],
   "source": [
    "c=1+4j\n",
    "c"
   ]
  },
  {
   "cell_type": "code",
   "execution_count": 31,
   "id": "7cfd6e17-0ade-47f3-bab5-18c89e520af1",
   "metadata": {},
   "outputs": [
    {
     "data": {
      "text/plain": [
       "complex"
      ]
     },
     "execution_count": 31,
     "metadata": {},
     "output_type": "execute_result"
    }
   ],
   "source": [
    "type(c)"
   ]
  },
  {
   "cell_type": "code",
   "execution_count": 33,
   "id": "b19fda91-8644-4676-a358-2ea43fb1fb80",
   "metadata": {},
   "outputs": [
    {
     "data": {
      "text/plain": [
       "1.0"
      ]
     },
     "execution_count": 33,
     "metadata": {},
     "output_type": "execute_result"
    }
   ],
   "source": [
    "c.real"
   ]
  },
  {
   "cell_type": "code",
   "execution_count": 35,
   "id": "f60cc386-a0ee-4ad8-9bf5-252e8b16d3d5",
   "metadata": {},
   "outputs": [
    {
     "data": {
      "text/plain": [
       "4.0"
      ]
     },
     "execution_count": 35,
     "metadata": {},
     "output_type": "execute_result"
    }
   ],
   "source": [
    "c.imag"
   ]
  },
  {
   "cell_type": "code",
   "execution_count": 37,
   "id": "c4694235-90a5-446c-ba49-fea73e608646",
   "metadata": {},
   "outputs": [
    {
     "name": "stdout",
     "output_type": "stream",
     "text": [
      "(3+5j)\n",
      "(-4+7j)\n"
     ]
    }
   ],
   "source": [
    "c=2+3j\n",
    "e=1+2j\n",
    "\n",
    "print(c+e)\n",
    "print(c*e)"
   ]
  },
  {
   "cell_type": "code",
   "execution_count": 39,
   "id": "a2f7644d-cca5-4ff1-8f49-26ed39dc4e68",
   "metadata": {},
   "outputs": [],
   "source": [
    "def Rahul():\n",
    "    print('Hola')  #It generally takes 4 spaces while defining any class."
   ]
  },
  {
   "cell_type": "code",
   "execution_count": 41,
   "id": "1773a093-55fc-4c3c-956f-c9d8af1543ee",
   "metadata": {},
   "outputs": [
    {
     "data": {
      "text/plain": [
       "2"
      ]
     },
     "execution_count": 41,
     "metadata": {},
     "output_type": "execute_result"
    }
   ],
   "source": [
    "True+True"
   ]
  },
  {
   "cell_type": "code",
   "execution_count": 43,
   "id": "42a55e16-e0b3-48ba-b82f-8bd15a41a167",
   "metadata": {},
   "outputs": [
    {
     "data": {
      "text/plain": [
       "1"
      ]
     },
     "execution_count": 43,
     "metadata": {},
     "output_type": "execute_result"
    }
   ],
   "source": [
    "True+True*False-False"
   ]
  },
  {
   "cell_type": "code",
   "execution_count": 45,
   "id": "7ceb7cfb-cfd6-4f4b-9d83-945695b920e4",
   "metadata": {},
   "outputs": [
    {
     "name": "stdout",
     "output_type": "stream",
     "text": [
      "140721132809400\n",
      "140721132809400\n",
      "140721132809400\n"
     ]
    }
   ],
   "source": [
    "p=q=r=25\n",
    "print(id(p))\n",
    "print(id(q))\n",
    "print(id(r))"
   ]
  },
  {
   "cell_type": "code",
   "execution_count": 47,
   "id": "4be18fbd-6490-44db-9b3b-964e2439cd59",
   "metadata": {},
   "outputs": [
    {
     "name": "stdout",
     "output_type": "stream",
     "text": [
      "140721132808984\n",
      "140721132809016\n",
      "140721132809048\n"
     ]
    }
   ],
   "source": [
    "p1,q1,r1=12,13,14\n",
    "print(id(p1))\n",
    "print(id(q1))\n",
    "print(id(r1))"
   ]
  },
  {
   "cell_type": "code",
   "execution_count": 49,
   "id": "dffef641-3b0d-420f-bc40-2a61e3c4f5f9",
   "metadata": {},
   "outputs": [
    {
     "data": {
      "text/plain": [
       "19"
      ]
     },
     "execution_count": 49,
     "metadata": {},
     "output_type": "execute_result"
    }
   ],
   "source": [
    "s='Rahul is a good boy'\n",
    "len(s)"
   ]
  },
  {
   "cell_type": "code",
   "execution_count": 51,
   "id": "43728dad-fc1e-4ee1-8029-8d49f0172c64",
   "metadata": {},
   "outputs": [
    {
     "data": {
      "text/plain": [
       "'R'"
      ]
     },
     "execution_count": 51,
     "metadata": {},
     "output_type": "execute_result"
    }
   ],
   "source": [
    "s[0]"
   ]
  },
  {
   "cell_type": "code",
   "execution_count": 53,
   "id": "86035918-2c5a-4f7e-b054-05ea5a9d0fe6",
   "metadata": {},
   "outputs": [
    {
     "data": {
      "text/plain": [
       "'y'"
      ]
     },
     "execution_count": 53,
     "metadata": {},
     "output_type": "execute_result"
    }
   ],
   "source": [
    "s[-1]"
   ]
  },
  {
   "cell_type": "code",
   "execution_count": 57,
   "id": "29e333ec-3ca0-4caa-b99c-8e5875327331",
   "metadata": {},
   "outputs": [
    {
     "data": {
      "text/plain": [
       "'Rahul is a good'"
      ]
     },
     "execution_count": 57,
     "metadata": {},
     "output_type": "execute_result"
    }
   ],
   "source": [
    "s[0:15]"
   ]
  },
  {
   "cell_type": "code",
   "execution_count": 59,
   "id": "5e743ec7-906b-4e34-9605-00793688edfa",
   "metadata": {},
   "outputs": [
    {
     "data": {
      "text/plain": [
       "'s a good'"
      ]
     },
     "execution_count": 59,
     "metadata": {},
     "output_type": "execute_result"
    }
   ],
   "source": [
    "s[7:15]"
   ]
  },
  {
   "cell_type": "code",
   "execution_count": 61,
   "id": "4d9b4cf6-85c8-439e-b230-5313cff6399f",
   "metadata": {},
   "outputs": [
    {
     "data": {
      "text/plain": [
       "' b'"
      ]
     },
     "execution_count": 61,
     "metadata": {},
     "output_type": "execute_result"
    }
   ],
   "source": [
    "s[-4:-2]"
   ]
  },
  {
   "cell_type": "code",
   "execution_count": 63,
   "id": "f66a6c04-7ba9-4984-a7cc-52b5d5fb8aba",
   "metadata": {},
   "outputs": [
    {
     "data": {
      "text/plain": [
       "'ul is a good boy'"
      ]
     },
     "execution_count": 63,
     "metadata": {},
     "output_type": "execute_result"
    }
   ],
   "source": [
    "s[3:]"
   ]
  },
  {
   "cell_type": "code",
   "execution_count": 65,
   "id": "440de39b-2d93-49f3-a34d-79ca70897ee0",
   "metadata": {},
   "outputs": [
    {
     "data": {
      "text/plain": [
       "'Rahul'"
      ]
     },
     "execution_count": 65,
     "metadata": {},
     "output_type": "execute_result"
    }
   ],
   "source": [
    "s[:5]"
   ]
  },
  {
   "cell_type": "code",
   "execution_count": 67,
   "id": "173f33a0-2160-4c19-8d60-1d0b2fdf8af9",
   "metadata": {},
   "outputs": [
    {
     "data": {
      "text/plain": [
       "'yob doog a si luhaR'"
      ]
     },
     "execution_count": 67,
     "metadata": {},
     "output_type": "execute_result"
    }
   ],
   "source": [
    "s[::-1]"
   ]
  },
  {
   "cell_type": "code",
   "execution_count": 73,
   "id": "39635b94-286b-4477-99cd-2db56e5d398f",
   "metadata": {},
   "outputs": [
    {
     "data": {
      "text/plain": [
       "'Rahul is a good boy'"
      ]
     },
     "execution_count": 73,
     "metadata": {},
     "output_type": "execute_result"
    }
   ],
   "source": [
    "s[0:19:1]"
   ]
  },
  {
   "cell_type": "code",
   "execution_count": 75,
   "id": "ff330f44-b303-47e0-85a7-a8a02508bf15",
   "metadata": {},
   "outputs": [
    {
     "data": {
      "text/plain": [
       "'Rhli  odby'"
      ]
     },
     "execution_count": 75,
     "metadata": {},
     "output_type": "execute_result"
    }
   ],
   "source": [
    "s[0:19:2]"
   ]
  },
  {
   "cell_type": "code",
   "execution_count": 79,
   "id": "1ed9c039-d302-45e4-b6fa-b3185327ecfb",
   "metadata": {},
   "outputs": [
    {
     "data": {
      "text/plain": [
       "1.2"
      ]
     },
     "execution_count": 79,
     "metadata": {},
     "output_type": "execute_result"
    }
   ],
   "source": [
    "float(1.2)"
   ]
  },
  {
   "cell_type": "code",
   "execution_count": 81,
   "id": "5f7b948a-37ae-4927-ad6c-91c6db00ab4a",
   "metadata": {},
   "outputs": [
    {
     "name": "stdout",
     "output_type": "stream",
     "text": [
      "2\n",
      "1\n",
      "12\n"
     ]
    }
   ],
   "source": [
    "print(int(2.1))\n",
    "print(int(True))\n",
    "print(int('12'))  #Integer cannot be converted into complex and strings cannot be converted into float."
   ]
  },
  {
   "cell_type": "code",
   "execution_count": 83,
   "id": "b0ab67e7-46e5-4580-8f1d-7a097a23ffc4",
   "metadata": {},
   "outputs": [
    {
     "data": {
      "text/plain": [
       "str"
      ]
     },
     "execution_count": 83,
     "metadata": {},
     "output_type": "execute_result"
    }
   ],
   "source": [
    "s='2'\n",
    "type(s)"
   ]
  },
  {
   "cell_type": "code",
   "execution_count": 87,
   "id": "adb52d37-de4f-4220-900d-101346875be0",
   "metadata": {},
   "outputs": [
    {
     "name": "stdout",
     "output_type": "stream",
     "text": [
      "2.0\n"
     ]
    }
   ],
   "source": [
    "print(float(2))"
   ]
  },
  {
   "cell_type": "code",
   "execution_count": 91,
   "id": "1388da76-c0d3-4778-b9c7-3ca9a824c1f0",
   "metadata": {},
   "outputs": [
    {
     "data": {
      "text/plain": [
       "list"
      ]
     },
     "execution_count": 91,
     "metadata": {},
     "output_type": "execute_result"
    }
   ],
   "source": [
    "l=[]\n",
    "type(l)"
   ]
  },
  {
   "cell_type": "code",
   "execution_count": 93,
   "id": "08932255-c7b5-4742-8b74-27614c6f49d7",
   "metadata": {},
   "outputs": [
    {
     "name": "stdout",
     "output_type": "stream",
     "text": [
      "<class 'list'>\n"
     ]
    }
   ],
   "source": [
    "print(type(l))"
   ]
  },
  {
   "cell_type": "code",
   "execution_count": 95,
   "id": "bd978b5e-702c-40b2-8337-01a4677b7155",
   "metadata": {},
   "outputs": [
    {
     "data": {
      "text/plain": [
       "0"
      ]
     },
     "execution_count": 95,
     "metadata": {},
     "output_type": "execute_result"
    }
   ],
   "source": [
    "len(l)"
   ]
  },
  {
   "cell_type": "code",
   "execution_count": 97,
   "id": "91f5e14f-4318-4da3-9088-46b793e718a7",
   "metadata": {},
   "outputs": [],
   "source": [
    "l.append(11)"
   ]
  },
  {
   "cell_type": "code",
   "execution_count": 99,
   "id": "579b9ec0-c179-471d-b4ab-a22f0934f103",
   "metadata": {},
   "outputs": [
    {
     "data": {
      "text/plain": [
       "[11]"
      ]
     },
     "execution_count": 99,
     "metadata": {},
     "output_type": "execute_result"
    }
   ],
   "source": [
    "l"
   ]
  },
  {
   "cell_type": "code",
   "execution_count": 101,
   "id": "afe00f80-7f84-499a-8a7b-827029067c6a",
   "metadata": {},
   "outputs": [
    {
     "data": {
      "text/plain": [
       "1"
      ]
     },
     "execution_count": 101,
     "metadata": {},
     "output_type": "execute_result"
    }
   ],
   "source": [
    "len(l)"
   ]
  },
  {
   "cell_type": "code",
   "execution_count": 105,
   "id": "74172e65-2c57-41e5-9191-d6b9d425eb67",
   "metadata": {},
   "outputs": [
    {
     "data": {
      "text/plain": [
       "[11, 12, 13, 14, 11, 12, 13, 14, 11]"
      ]
     },
     "execution_count": 105,
     "metadata": {},
     "output_type": "execute_result"
    }
   ],
   "source": [
    "l.append(12)\n",
    "l.append(13)\n",
    "l.append(14)\n",
    "l.append(11)\n",
    "l    #APPEND IS GENERALLY USED FOR ADDING A VALUE TO THE END OF THE LIST."
   ]
  },
  {
   "cell_type": "code",
   "execution_count": 1,
   "id": "b92bce6c-d2f1-4658-a325-df1a36840d75",
   "metadata": {},
   "outputs": [
    {
     "name": "stdout",
     "output_type": "stream",
     "text": [
      "<class 'list'>\n"
     ]
    }
   ],
   "source": [
    "list1=[]\n",
    "print(type(list1))"
   ]
  },
  {
   "cell_type": "code",
   "execution_count": 3,
   "id": "b6de1393-6393-4843-ba8a-6ad904341429",
   "metadata": {},
   "outputs": [],
   "source": [
    "list2=[23,224,245]"
   ]
  },
  {
   "cell_type": "code",
   "execution_count": 5,
   "id": "97744eec-1d75-4386-81c2-0d61a61c2ad3",
   "metadata": {},
   "outputs": [],
   "source": [
    "list3=['rahul',21,[34,43],[23,15]]"
   ]
  },
  {
   "cell_type": "code",
   "execution_count": 7,
   "id": "3dff6d53-b252-4170-a103-2b2a7f0298a7",
   "metadata": {},
   "outputs": [
    {
     "data": {
      "text/plain": [
       "['rahul', 21, [34, 43], [23, 15]]"
      ]
     },
     "execution_count": 7,
     "metadata": {},
     "output_type": "execute_result"
    }
   ],
   "source": [
    "list3"
   ]
  },
  {
   "cell_type": "code",
   "execution_count": 11,
   "id": "6dbe0cc6-f3a4-4be9-89e3-52f7f3d1a473",
   "metadata": {},
   "outputs": [
    {
     "data": {
      "text/plain": [
       "43"
      ]
     },
     "execution_count": 11,
     "metadata": {},
     "output_type": "execute_result"
    }
   ],
   "source": [
    "list3[2][1]"
   ]
  },
  {
   "cell_type": "code",
   "execution_count": 13,
   "id": "27369d7d-4ede-482d-8b7b-f2ed673802d0",
   "metadata": {},
   "outputs": [
    {
     "data": {
      "text/plain": [
       "4"
      ]
     },
     "execution_count": 13,
     "metadata": {},
     "output_type": "execute_result"
    }
   ],
   "source": [
    "len(list3)"
   ]
  },
  {
   "cell_type": "code",
   "execution_count": 15,
   "id": "b8314a70-948d-422d-9194-fa3b8b38820f",
   "metadata": {},
   "outputs": [
    {
     "data": {
      "text/plain": [
       "['Ram', [21, 28], (3+7j)]"
      ]
     },
     "execution_count": 15,
     "metadata": {},
     "output_type": "execute_result"
    }
   ],
   "source": [
    "list4=['Ram',[21,28],3+7j]\n",
    "list4"
   ]
  },
  {
   "cell_type": "code",
   "execution_count": 17,
   "id": "7e3f2936-91db-44b4-ac18-5f5de5a25449",
   "metadata": {},
   "outputs": [
    {
     "data": {
      "text/plain": [
       "(3+7j)"
      ]
     },
     "execution_count": 17,
     "metadata": {},
     "output_type": "execute_result"
    }
   ],
   "source": [
    "list4[-1]"
   ]
  },
  {
   "cell_type": "code",
   "execution_count": 21,
   "id": "58380d23-faba-4be0-ae84-16e4c7d5f1e2",
   "metadata": {},
   "outputs": [],
   "source": [
    "list5=[23,34,43,89,76,44444,66]"
   ]
  },
  {
   "cell_type": "code",
   "execution_count": 23,
   "id": "f4df2064-fe7a-438e-a263-870f67e02f75",
   "metadata": {},
   "outputs": [
    {
     "data": {
      "text/plain": [
       "[23, 34, 43, 89]"
      ]
     },
     "execution_count": 23,
     "metadata": {},
     "output_type": "execute_result"
    }
   ],
   "source": [
    "list5[0:4]"
   ]
  },
  {
   "cell_type": "code",
   "execution_count": 25,
   "id": "04705165-d3a2-4b0c-8e8c-7e3f8f48de8c",
   "metadata": {},
   "outputs": [],
   "source": [
    "list5.append(455)"
   ]
  },
  {
   "cell_type": "code",
   "execution_count": 27,
   "id": "f0de21ac-6bab-41ad-9cf2-8e3d1a6a891b",
   "metadata": {},
   "outputs": [
    {
     "data": {
      "text/plain": [
       "[23, 34, 43, 89, 76, 44444, 66, 455]"
      ]
     },
     "execution_count": 27,
     "metadata": {},
     "output_type": "execute_result"
    }
   ],
   "source": [
    "list5"
   ]
  },
  {
   "cell_type": "code",
   "execution_count": 29,
   "id": "e517e457-c4ea-4462-83c1-fb423b974830",
   "metadata": {},
   "outputs": [],
   "source": [
    "list5.insert(2,32)"
   ]
  },
  {
   "cell_type": "code",
   "execution_count": 31,
   "id": "1bbd98c8-f6f8-4e60-af60-fe479675efef",
   "metadata": {},
   "outputs": [
    {
     "data": {
      "text/plain": [
       "[23, 34, 32, 43, 89, 76, 44444, 66, 455]"
      ]
     },
     "execution_count": 31,
     "metadata": {},
     "output_type": "execute_result"
    }
   ],
   "source": [
    "list5"
   ]
  },
  {
   "cell_type": "code",
   "execution_count": 37,
   "id": "9e8d7109-1117-47d2-ac29-207e4ae857eb",
   "metadata": {},
   "outputs": [],
   "source": [
    "l10=[12,13,14]\n",
    "l11=l10.copy()"
   ]
  },
  {
   "cell_type": "code",
   "execution_count": 41,
   "id": "c37d8f17-65fa-4089-b052-ab3f340ccdfa",
   "metadata": {},
   "outputs": [
    {
     "data": {
      "text/plain": [
       "[12, 13, 14]"
      ]
     },
     "execution_count": 41,
     "metadata": {},
     "output_type": "execute_result"
    }
   ],
   "source": [
    "l11"
   ]
  },
  {
   "cell_type": "code",
   "execution_count": 43,
   "id": "b49463b5-067f-43d2-b2c5-acecff82716b",
   "metadata": {},
   "outputs": [
    {
     "data": {
      "text/plain": [
       "True"
      ]
     },
     "execution_count": 43,
     "metadata": {},
     "output_type": "execute_result"
    }
   ],
   "source": [
    "l10==l11"
   ]
  },
  {
   "cell_type": "code",
   "execution_count": 45,
   "id": "79ff9591-a0c1-40c1-8e2e-d743501cee0e",
   "metadata": {},
   "outputs": [
    {
     "data": {
      "text/plain": [
       "False"
      ]
     },
     "execution_count": 45,
     "metadata": {},
     "output_type": "execute_result"
    }
   ],
   "source": [
    "id(l10)==id(l11)"
   ]
  },
  {
   "cell_type": "code",
   "execution_count": 49,
   "id": "101970e3-0ce7-438f-9bbd-ba27c4bb5e79",
   "metadata": {},
   "outputs": [
    {
     "data": {
      "text/plain": [
       "(2242664804608, 2242664783616)"
      ]
     },
     "execution_count": 49,
     "metadata": {},
     "output_type": "execute_result"
    }
   ],
   "source": [
    "id(l10),id(l11)"
   ]
  },
  {
   "cell_type": "code",
   "execution_count": 1,
   "id": "d88ea0a7-8724-4351-8080-bfa9a6f96764",
   "metadata": {},
   "outputs": [
    {
     "ename": "NameError",
     "evalue": "name 'l' is not defined",
     "output_type": "error",
     "traceback": [
      "\u001b[31m---------------------------------------------------------------------------\u001b[39m",
      "\u001b[31mNameError\u001b[39m                                 Traceback (most recent call last)",
      "\u001b[36mCell\u001b[39m\u001b[36m \u001b[39m\u001b[32mIn[1]\u001b[39m\u001b[32m, line 1\u001b[39m\n\u001b[32m----> \u001b[39m\u001b[32m1\u001b[39m \u001b[43ml\u001b[49m.append(\u001b[32m23\u001b[39m)\n",
      "\u001b[31mNameError\u001b[39m: name 'l' is not defined"
     ]
    }
   ],
   "source": [
    "l.append(23)"
   ]
  },
  {
   "cell_type": "code",
   "execution_count": 3,
   "id": "6c50255e-c6f1-4f1f-94c1-28e461b4475b",
   "metadata": {},
   "outputs": [],
   "source": [
    "l=[54,56,65,76]"
   ]
  },
  {
   "cell_type": "code",
   "execution_count": 5,
   "id": "596a787a-afb1-4a4c-8d2e-d2ba5529cb5e",
   "metadata": {},
   "outputs": [
    {
     "data": {
      "text/plain": [
       "[54, 56, 65, 76]"
      ]
     },
     "execution_count": 5,
     "metadata": {},
     "output_type": "execute_result"
    }
   ],
   "source": [
    "l"
   ]
  },
  {
   "cell_type": "code",
   "execution_count": 7,
   "id": "8288a415-abe8-4574-a016-fefc5f8ffb38",
   "metadata": {},
   "outputs": [],
   "source": [
    "l.append(23)"
   ]
  },
  {
   "cell_type": "code",
   "execution_count": 9,
   "id": "c2ed3ce4-f579-4b34-bce3-10ddb807da13",
   "metadata": {},
   "outputs": [
    {
     "data": {
      "text/plain": [
       "[54, 56, 65, 76, 23]"
      ]
     },
     "execution_count": 9,
     "metadata": {},
     "output_type": "execute_result"
    }
   ],
   "source": [
    "l"
   ]
  },
  {
   "cell_type": "code",
   "execution_count": 11,
   "id": "6e47d35a-4bb8-49df-baa9-f5923e49dbab",
   "metadata": {},
   "outputs": [],
   "source": [
    "l.append(777)\n",
    "l.append(877)\n",
    "l.append(977)"
   ]
  },
  {
   "cell_type": "code",
   "execution_count": 13,
   "id": "cca6d0da-9a25-4c2a-a9e6-0d56bd165615",
   "metadata": {},
   "outputs": [
    {
     "data": {
      "text/plain": [
       "[54, 56, 65, 76, 23, 777, 877, 977]"
      ]
     },
     "execution_count": 13,
     "metadata": {},
     "output_type": "execute_result"
    }
   ],
   "source": [
    "l"
   ]
  },
  {
   "cell_type": "code",
   "execution_count": 15,
   "id": "78ed3f80-26ec-4ce7-9a01-ec9c0d0ba3c7",
   "metadata": {},
   "outputs": [
    {
     "data": {
      "text/plain": [
       "877"
      ]
     },
     "execution_count": 15,
     "metadata": {},
     "output_type": "execute_result"
    }
   ],
   "source": [
    "l[-2]"
   ]
  },
  {
   "cell_type": "code",
   "execution_count": 17,
   "id": "e169ce2c-8693-4d07-8495-0a445340b915",
   "metadata": {},
   "outputs": [],
   "source": [
    "l[3]=44"
   ]
  },
  {
   "cell_type": "code",
   "execution_count": 19,
   "id": "7f3eef7f-bdb3-4d60-b2a1-cdff0287f440",
   "metadata": {},
   "outputs": [
    {
     "data": {
      "text/plain": [
       "[54, 56, 65, 44, 23, 777, 877, 977]"
      ]
     },
     "execution_count": 19,
     "metadata": {},
     "output_type": "execute_result"
    }
   ],
   "source": [
    "l"
   ]
  },
  {
   "cell_type": "code",
   "execution_count": 21,
   "id": "9556581b-3459-4922-b57f-c9e3bc6724e0",
   "metadata": {},
   "outputs": [],
   "source": [
    "l1=l.copy()"
   ]
  },
  {
   "cell_type": "code",
   "execution_count": 23,
   "id": "7550da72-db5f-4775-b88a-3b1a358a8671",
   "metadata": {},
   "outputs": [
    {
     "data": {
      "text/plain": [
       "[54, 56, 65, 44, 23, 777, 877, 977]"
      ]
     },
     "execution_count": 23,
     "metadata": {},
     "output_type": "execute_result"
    }
   ],
   "source": [
    "l1"
   ]
  },
  {
   "cell_type": "code",
   "execution_count": 25,
   "id": "e1f32c49-578f-43aa-bbc0-7b5091180525",
   "metadata": {},
   "outputs": [
    {
     "data": {
      "text/plain": [
       "True"
      ]
     },
     "execution_count": 25,
     "metadata": {},
     "output_type": "execute_result"
    }
   ],
   "source": [
    "l1==l"
   ]
  },
  {
   "cell_type": "code",
   "execution_count": 27,
   "id": "284c2cd1-b09a-4197-9f9c-8fd26c2c6ed3",
   "metadata": {},
   "outputs": [
    {
     "data": {
      "text/plain": [
       "False"
      ]
     },
     "execution_count": 27,
     "metadata": {},
     "output_type": "execute_result"
    }
   ],
   "source": [
    "id(l1)==id(l)"
   ]
  },
  {
   "cell_type": "code",
   "execution_count": 29,
   "id": "13b482f7-6e3a-4b1b-aac5-8f67e041b5d7",
   "metadata": {},
   "outputs": [
    {
     "data": {
      "text/plain": [
       "1"
      ]
     },
     "execution_count": 29,
     "metadata": {},
     "output_type": "execute_result"
    }
   ],
   "source": [
    "l.count(44) # it is used to count the number the values int the list."
   ]
  },
  {
   "cell_type": "code",
   "execution_count": 31,
   "id": "cdaa9832-9cc7-46b4-83cf-dfff41bdc49d",
   "metadata": {},
   "outputs": [
    {
     "data": {
      "text/plain": [
       "8"
      ]
     },
     "execution_count": 31,
     "metadata": {},
     "output_type": "execute_result"
    }
   ],
   "source": [
    "len(l)"
   ]
  },
  {
   "cell_type": "code",
   "execution_count": 33,
   "id": "39144000-b190-4cde-a656-4151e1530a6a",
   "metadata": {},
   "outputs": [],
   "source": [
    "l1.clear()"
   ]
  },
  {
   "cell_type": "code",
   "execution_count": 35,
   "id": "ba671c15-7e4d-4c7c-88a3-6fdf69a94097",
   "metadata": {},
   "outputs": [
    {
     "data": {
      "text/plain": [
       "[]"
      ]
     },
     "execution_count": 35,
     "metadata": {},
     "output_type": "execute_result"
    }
   ],
   "source": [
    "l1"
   ]
  },
  {
   "cell_type": "code",
   "execution_count": 37,
   "id": "1f64e0c0-bb35-4ec5-b62d-5aca69f27bb7",
   "metadata": {},
   "outputs": [],
   "source": [
    "del l1"
   ]
  },
  {
   "cell_type": "code",
   "execution_count": 39,
   "id": "c34b2e3e-f8a8-4c54-97e2-dd1aa7d0ca38",
   "metadata": {},
   "outputs": [
    {
     "ename": "NameError",
     "evalue": "name 'l1' is not defined",
     "output_type": "error",
     "traceback": [
      "\u001b[31m---------------------------------------------------------------------------\u001b[39m",
      "\u001b[31mNameError\u001b[39m                                 Traceback (most recent call last)",
      "\u001b[36mCell\u001b[39m\u001b[36m \u001b[39m\u001b[32mIn[39]\u001b[39m\u001b[32m, line 1\u001b[39m\n\u001b[32m----> \u001b[39m\u001b[32m1\u001b[39m \u001b[43ml1\u001b[49m\n",
      "\u001b[31mNameError\u001b[39m: name 'l1' is not defined"
     ]
    }
   ],
   "source": [
    "l1"
   ]
  },
  {
   "cell_type": "code",
   "execution_count": 41,
   "id": "c6765303-5d6a-4ebd-8236-c3f84ef78a80",
   "metadata": {},
   "outputs": [],
   "source": [
    "l1=l.copy()"
   ]
  },
  {
   "cell_type": "code",
   "execution_count": 43,
   "id": "4a012041-fe77-462e-b7b8-0e66eb61d7ee",
   "metadata": {},
   "outputs": [
    {
     "data": {
      "text/plain": [
       "[54, 56, 65, 44, 23, 777, 877, 977]"
      ]
     },
     "execution_count": 43,
     "metadata": {},
     "output_type": "execute_result"
    }
   ],
   "source": [
    "l1"
   ]
  },
  {
   "cell_type": "code",
   "execution_count": 45,
   "id": "04c482c7-0995-4d0e-88f1-d7a78594c881",
   "metadata": {},
   "outputs": [
    {
     "data": {
      "text/plain": [
       "1"
      ]
     },
     "execution_count": 45,
     "metadata": {},
     "output_type": "execute_result"
    }
   ],
   "source": [
    "l.index(56)"
   ]
  },
  {
   "cell_type": "code",
   "execution_count": 47,
   "id": "cbffd76f-a601-4091-b06a-38d8fe561b59",
   "metadata": {},
   "outputs": [],
   "source": [
    "l.append('rgda')"
   ]
  },
  {
   "cell_type": "code",
   "execution_count": 49,
   "id": "7ffba0d5-4c98-4d14-b660-7b0001649439",
   "metadata": {},
   "outputs": [
    {
     "data": {
      "text/plain": [
       "[54, 56, 65, 44, 23, 777, 877, 977, 'rgda']"
      ]
     },
     "execution_count": 49,
     "metadata": {},
     "output_type": "execute_result"
    }
   ],
   "source": [
    "l"
   ]
  },
  {
   "cell_type": "code",
   "execution_count": 51,
   "id": "3fb49a7f-beeb-4c0d-a882-55537c727505",
   "metadata": {},
   "outputs": [
    {
     "data": {
      "text/plain": [
       "9"
      ]
     },
     "execution_count": 51,
     "metadata": {},
     "output_type": "execute_result"
    }
   ],
   "source": [
    "len(l)"
   ]
  },
  {
   "cell_type": "code",
   "execution_count": 55,
   "id": "3ebeb1d5-5b2f-4819-9f21-2a67df08fa5b",
   "metadata": {},
   "outputs": [
    {
     "data": {
      "text/plain": [
       "'d'"
      ]
     },
     "execution_count": 55,
     "metadata": {},
     "output_type": "execute_result"
    }
   ],
   "source": [
    "l[8][2]"
   ]
  },
  {
   "cell_type": "code",
   "execution_count": 57,
   "id": "6eb2db2a-65de-4806-8056-98d7e8517746",
   "metadata": {},
   "outputs": [
    {
     "name": "stdout",
     "output_type": "stream",
     "text": [
      "g\n"
     ]
    }
   ],
   "source": [
    "print(l[8][1])"
   ]
  },
  {
   "cell_type": "code",
   "execution_count": 59,
   "id": "df123143-c149-4088-a727-08292f3a38fc",
   "metadata": {},
   "outputs": [],
   "source": [
    "l2=['Ram',44,[77,98],[66,21]]"
   ]
  },
  {
   "cell_type": "code",
   "execution_count": 61,
   "id": "ebf2e399-7c69-49fd-be6d-b5f29c80d654",
   "metadata": {},
   "outputs": [
    {
     "data": {
      "text/plain": [
       "['Ram', 44, [77, 98], [66, 21]]"
      ]
     },
     "execution_count": 61,
     "metadata": {},
     "output_type": "execute_result"
    }
   ],
   "source": [
    "l2"
   ]
  },
  {
   "cell_type": "code",
   "execution_count": 63,
   "id": "b9281852-d8a0-402a-9d39-ef27cd6a0393",
   "metadata": {},
   "outputs": [],
   "source": [
    "l2.insert(4,44)"
   ]
  },
  {
   "cell_type": "code",
   "execution_count": 65,
   "id": "18d3f3da-a292-4368-a288-9a0ad2e02df9",
   "metadata": {},
   "outputs": [
    {
     "data": {
      "text/plain": [
       "['Ram', 44, [77, 98], [66, 21], 44]"
      ]
     },
     "execution_count": 65,
     "metadata": {},
     "output_type": "execute_result"
    }
   ],
   "source": [
    "l2"
   ]
  },
  {
   "cell_type": "code",
   "execution_count": 67,
   "id": "97f0bf83-c4b3-43e6-ba16-ba5b0ab9c7e4",
   "metadata": {},
   "outputs": [
    {
     "data": {
      "text/plain": [
       "2"
      ]
     },
     "execution_count": 67,
     "metadata": {},
     "output_type": "execute_result"
    }
   ],
   "source": [
    "l2.count(44)"
   ]
  },
  {
   "cell_type": "code",
   "execution_count": 69,
   "id": "2b71bc7f-f303-48f9-ab23-d221d4b67c64",
   "metadata": {},
   "outputs": [],
   "source": [
    "l2.remove(44)"
   ]
  },
  {
   "cell_type": "code",
   "execution_count": 71,
   "id": "cc4b33ac-baf2-4165-882e-55b725ae5d4e",
   "metadata": {},
   "outputs": [
    {
     "data": {
      "text/plain": [
       "['Ram', [77, 98], [66, 21], 44]"
      ]
     },
     "execution_count": 71,
     "metadata": {},
     "output_type": "execute_result"
    }
   ],
   "source": [
    "l2"
   ]
  },
  {
   "cell_type": "code",
   "execution_count": 75,
   "id": "d60626e4-600d-44e7-b729-8e6f34a9abeb",
   "metadata": {},
   "outputs": [
    {
     "data": {
      "text/plain": [
       "44"
      ]
     },
     "execution_count": 75,
     "metadata": {},
     "output_type": "execute_result"
    }
   ],
   "source": [
    "l2.pop()"
   ]
  },
  {
   "cell_type": "markdown",
   "id": "ac31adf1-1a85-4d05-b912-1ff100ca7eb3",
   "metadata": {},
   "source": [
    "l2"
   ]
  },
  {
   "cell_type": "code",
   "execution_count": 78,
   "id": "a4947be6-b1e2-417e-9feb-f6754a73024b",
   "metadata": {},
   "outputs": [
    {
     "data": {
      "text/plain": [
       "['Ram', [77, 98], [66, 21]]"
      ]
     },
     "execution_count": 78,
     "metadata": {},
     "output_type": "execute_result"
    }
   ],
   "source": [
    "l2"
   ]
  },
  {
   "cell_type": "code",
   "execution_count": 80,
   "id": "e764fcae-c8aa-4bf4-ae27-32b28e7f7ea3",
   "metadata": {},
   "outputs": [
    {
     "data": {
      "text/plain": [
       "[77, 98]"
      ]
     },
     "execution_count": 80,
     "metadata": {},
     "output_type": "execute_result"
    }
   ],
   "source": [
    "l2.pop(1)"
   ]
  },
  {
   "cell_type": "code",
   "execution_count": 82,
   "id": "3767e80d-d47a-4d04-bf84-ddf5464843a8",
   "metadata": {},
   "outputs": [
    {
     "data": {
      "text/plain": [
       "['Ram', [66, 21]]"
      ]
     },
     "execution_count": 82,
     "metadata": {},
     "output_type": "execute_result"
    }
   ],
   "source": [
    "l2"
   ]
  },
  {
   "cell_type": "code",
   "execution_count": 88,
   "id": "0ba60372-bd55-4768-bff6-58e85b483f64",
   "metadata": {},
   "outputs": [],
   "source": [
    "l2.remove('Ram')"
   ]
  },
  {
   "cell_type": "code",
   "execution_count": 90,
   "id": "fb0c24ee-674a-4efd-8767-c7a3025b4685",
   "metadata": {},
   "outputs": [
    {
     "data": {
      "text/plain": [
       "[[66, 21]]"
      ]
     },
     "execution_count": 90,
     "metadata": {},
     "output_type": "execute_result"
    }
   ],
   "source": [
    "l2"
   ]
  },
  {
   "cell_type": "code",
   "execution_count": 92,
   "id": "1e944cb5-a4ef-4ae8-ab1c-46c27a80a163",
   "metadata": {},
   "outputs": [],
   "source": [
    "del l2"
   ]
  },
  {
   "cell_type": "code",
   "execution_count": 94,
   "id": "b950cef1-4889-442a-a4e0-5cbf738dcae4",
   "metadata": {},
   "outputs": [
    {
     "ename": "NameError",
     "evalue": "name 'l2' is not defined",
     "output_type": "error",
     "traceback": [
      "\u001b[31m---------------------------------------------------------------------------\u001b[39m",
      "\u001b[31mNameError\u001b[39m                                 Traceback (most recent call last)",
      "\u001b[36mCell\u001b[39m\u001b[36m \u001b[39m\u001b[32mIn[94]\u001b[39m\u001b[32m, line 1\u001b[39m\n\u001b[32m----> \u001b[39m\u001b[32m1\u001b[39m \u001b[43ml2\u001b[49m\n",
      "\u001b[31mNameError\u001b[39m: name 'l2' is not defined"
     ]
    }
   ],
   "source": [
    "l2"
   ]
  },
  {
   "cell_type": "code",
   "execution_count": 96,
   "id": "f02ee14d-b1b3-4e54-80d2-dd1d1987a195",
   "metadata": {},
   "outputs": [],
   "source": [
    "l[0]=34"
   ]
  },
  {
   "cell_type": "code",
   "execution_count": 98,
   "id": "478aa441-f436-421b-9926-7fbe3a86339a",
   "metadata": {},
   "outputs": [
    {
     "data": {
      "text/plain": [
       "[34, 56, 65, 44, 23, 777, 877, 977, 'rgda']"
      ]
     },
     "execution_count": 98,
     "metadata": {},
     "output_type": "execute_result"
    }
   ],
   "source": [
    "l"
   ]
  },
  {
   "cell_type": "code",
   "execution_count": 100,
   "id": "7abd1594-92c9-4095-ab08-c71ad4a0aa8b",
   "metadata": {},
   "outputs": [
    {
     "data": {
      "text/plain": [
       "True"
      ]
     },
     "execution_count": 100,
     "metadata": {},
     "output_type": "execute_result"
    }
   ],
   "source": [
    "34 in l"
   ]
  },
  {
   "cell_type": "code",
   "execution_count": 102,
   "id": "2a34b383-295f-4d0a-aeff-ddee0f56f9cf",
   "metadata": {},
   "outputs": [
    {
     "data": {
      "text/plain": [
       "False"
      ]
     },
     "execution_count": 102,
     "metadata": {},
     "output_type": "execute_result"
    }
   ],
   "source": [
    "77 in l"
   ]
  },
  {
   "cell_type": "code",
   "execution_count": 112,
   "id": "8da304e1-012a-4910-99f3-7258fba68ca7",
   "metadata": {},
   "outputs": [
    {
     "name": "stdout",
     "output_type": "stream",
     "text": [
      "the value isn't there\n"
     ]
    }
   ],
   "source": [
    "if 344 in l:\n",
    "    print('The value is there in the list')\n",
    "else:\n",
    "    print('the value isn\\'t there')"
   ]
  },
  {
   "cell_type": "code",
   "execution_count": 114,
   "id": "7522236f-b371-4383-97cf-755ad50aec74",
   "metadata": {},
   "outputs": [
    {
     "name": "stdout",
     "output_type": "stream",
     "text": [
      "The value is there in the list\n"
     ]
    }
   ],
   "source": [
    "if 34 in l:\n",
    "    print('The value is there in the list')\n",
    "else:\n",
    "    print('the value isn\\'t there')"
   ]
  },
  {
   "cell_type": "code",
   "execution_count": 116,
   "id": "3879e46d-cd1e-436c-ab7a-480c0c5cc473",
   "metadata": {},
   "outputs": [
    {
     "data": {
      "text/plain": [
       "[34, 56, 65, 44, 23, 777, 877, 977, 'rgda']"
      ]
     },
     "execution_count": 116,
     "metadata": {},
     "output_type": "execute_result"
    }
   ],
   "source": [
    "l"
   ]
  },
  {
   "cell_type": "code",
   "execution_count": 120,
   "id": "3cb0e6a6-f9fb-40b1-826a-1121a80c6b7a",
   "metadata": {},
   "outputs": [
    {
     "ename": "TypeError",
     "evalue": "'<' not supported between instances of 'str' and 'int'",
     "output_type": "error",
     "traceback": [
      "\u001b[31m---------------------------------------------------------------------------\u001b[39m",
      "\u001b[31mTypeError\u001b[39m                                 Traceback (most recent call last)",
      "\u001b[36mCell\u001b[39m\u001b[36m \u001b[39m\u001b[32mIn[120]\u001b[39m\u001b[32m, line 1\u001b[39m\n\u001b[32m----> \u001b[39m\u001b[32m1\u001b[39m \u001b[43ml\u001b[49m\u001b[43m.\u001b[49m\u001b[43msort\u001b[49m\u001b[43m(\u001b[49m\u001b[43m)\u001b[49m\n",
      "\u001b[31mTypeError\u001b[39m: '<' not supported between instances of 'str' and 'int'"
     ]
    }
   ],
   "source": [
    "l.sort()"
   ]
  },
  {
   "cell_type": "code",
   "execution_count": 122,
   "id": "f0e8c01b-9b1d-4e09-9602-cd28f6fbd31e",
   "metadata": {},
   "outputs": [
    {
     "data": {
      "text/plain": [
       "9"
      ]
     },
     "execution_count": 122,
     "metadata": {},
     "output_type": "execute_result"
    }
   ],
   "source": [
    "len(l)"
   ]
  },
  {
   "cell_type": "code",
   "execution_count": 124,
   "id": "30e7c700-eed8-4f6a-bad0-9a6da3688847",
   "metadata": {},
   "outputs": [],
   "source": [
    "l[8]=12"
   ]
  },
  {
   "cell_type": "code",
   "execution_count": 126,
   "id": "d5a7c5ad-9c45-4d24-9061-c7d486d8beb2",
   "metadata": {},
   "outputs": [],
   "source": [
    "l.sort()"
   ]
  },
  {
   "cell_type": "code",
   "execution_count": 128,
   "id": "836480b9-45ee-4883-9947-edf9fe20b9c1",
   "metadata": {},
   "outputs": [
    {
     "data": {
      "text/plain": [
       "[12, 23, 34, 44, 56, 65, 777, 877, 977]"
      ]
     },
     "execution_count": 128,
     "metadata": {},
     "output_type": "execute_result"
    }
   ],
   "source": [
    "l"
   ]
  },
  {
   "cell_type": "code",
   "execution_count": 130,
   "id": "f40dde4a-7b31-4f47-b59d-b9fea6bcdf8b",
   "metadata": {},
   "outputs": [],
   "source": [
    "l.reverse()"
   ]
  },
  {
   "cell_type": "code",
   "execution_count": 132,
   "id": "53baca00-716a-4b21-8210-3c716057ad87",
   "metadata": {},
   "outputs": [
    {
     "data": {
      "text/plain": [
       "[977, 877, 777, 65, 56, 44, 34, 23, 12]"
      ]
     },
     "execution_count": 132,
     "metadata": {},
     "output_type": "execute_result"
    }
   ],
   "source": [
    "l"
   ]
  },
  {
   "cell_type": "code",
   "execution_count": 134,
   "id": "4b09802a-6c35-4b93-9eab-de7a98f4dfa1",
   "metadata": {},
   "outputs": [
    {
     "name": "stdout",
     "output_type": "stream",
     "text": [
      "977\n",
      "877\n",
      "777\n",
      "65\n",
      "56\n",
      "44\n",
      "34\n",
      "23\n",
      "12\n"
     ]
    }
   ],
   "source": [
    "for i in l:\n",
    "    print(i)"
   ]
  },
  {
   "cell_type": "code",
   "execution_count": 136,
   "id": "9d2ee541-48d4-4fe2-87aa-18b58b5dbc37",
   "metadata": {},
   "outputs": [
    {
     "name": "stdout",
     "output_type": "stream",
     "text": [
      "(0, 977)\n",
      "(1, 877)\n",
      "(2, 777)\n",
      "(3, 65)\n",
      "(4, 56)\n",
      "(5, 44)\n",
      "(6, 34)\n",
      "(7, 23)\n",
      "(8, 12)\n"
     ]
    }
   ],
   "source": [
    "for i in enumerate(l):\n",
    "    print (i)"
   ]
  },
  {
   "cell_type": "code",
   "execution_count": 138,
   "id": "ec6ae3fe-c5c8-402c-943f-9f5ccf6c42a8",
   "metadata": {},
   "outputs": [
    {
     "data": {
      "text/plain": [
       "[977, 877, 777, 65, 56, 44, 34, 23, 12]"
      ]
     },
     "execution_count": 138,
     "metadata": {},
     "output_type": "execute_result"
    }
   ],
   "source": [
    "l"
   ]
  },
  {
   "cell_type": "code",
   "execution_count": 140,
   "id": "d79a8f8c-7133-474f-947b-0e373bb6f492",
   "metadata": {},
   "outputs": [
    {
     "data": {
      "text/plain": [
       "[977, 877, 777, 65, 56, 44, 34, 23, 12]"
      ]
     },
     "execution_count": 140,
     "metadata": {},
     "output_type": "execute_result"
    }
   ],
   "source": [
    "l[:]"
   ]
  },
  {
   "cell_type": "code",
   "execution_count": 142,
   "id": "fc140c7f-e634-4d0d-9de9-95528add1274",
   "metadata": {},
   "outputs": [
    {
     "data": {
      "text/plain": [
       "True"
      ]
     },
     "execution_count": 142,
     "metadata": {},
     "output_type": "execute_result"
    }
   ],
   "source": [
    "any(l)"
   ]
  },
  {
   "cell_type": "code",
   "execution_count": 144,
   "id": "48bb4049-956f-4280-8808-8b082aadc15d",
   "metadata": {},
   "outputs": [
    {
     "data": {
      "text/plain": [
       "True"
      ]
     },
     "execution_count": 144,
     "metadata": {},
     "output_type": "execute_result"
    }
   ],
   "source": [
    "all(l)"
   ]
  },
  {
   "cell_type": "code",
   "execution_count": 146,
   "id": "f7c354be-3b0f-439b-a0d0-8bd0b06faa23",
   "metadata": {},
   "outputs": [],
   "source": [
    "t=()"
   ]
  },
  {
   "cell_type": "code",
   "execution_count": 148,
   "id": "bda80dbb-3dd1-4167-87b1-c784534948dd",
   "metadata": {},
   "outputs": [
    {
     "data": {
      "text/plain": [
       "tuple"
      ]
     },
     "execution_count": 148,
     "metadata": {},
     "output_type": "execute_result"
    }
   ],
   "source": [
    "type(t)"
   ]
  },
  {
   "cell_type": "code",
   "execution_count": 150,
   "id": "eab8e178-8ec0-4095-a017-6c53b2ca0f0e",
   "metadata": {},
   "outputs": [],
   "source": [
    "t1=(45,56,89)\n",
    "t2=('Ram','Shyam','Kishori')\n",
    "t3=('Rahul',22,[34,65],{'El','Classico'})"
   ]
  },
  {
   "cell_type": "code",
   "execution_count": 152,
   "id": "f418f7e3-b587-4029-8c61-3c2b22c0afc2",
   "metadata": {},
   "outputs": [
    {
     "data": {
      "text/plain": [
       "4"
      ]
     },
     "execution_count": 152,
     "metadata": {},
     "output_type": "execute_result"
    }
   ],
   "source": [
    "len(t3)"
   ]
  },
  {
   "cell_type": "code",
   "execution_count": 154,
   "id": "d1b4ecf5-7797-4c47-b386-4ce5dab21512",
   "metadata": {},
   "outputs": [
    {
     "data": {
      "text/plain": [
       "65"
      ]
     },
     "execution_count": 154,
     "metadata": {},
     "output_type": "execute_result"
    }
   ],
   "source": [
    "t3[2][1]"
   ]
  },
  {
   "cell_type": "code",
   "execution_count": 156,
   "id": "1ca55afb-98bb-4da4-83e4-f37f2f57026f",
   "metadata": {},
   "outputs": [],
   "source": [
    "t4=(1,2,3,4,5,6,7,8,9)"
   ]
  },
  {
   "cell_type": "code",
   "execution_count": 158,
   "id": "a5e68bb2-e062-4972-b7a7-658795cc9bc9",
   "metadata": {},
   "outputs": [
    {
     "data": {
      "text/plain": [
       "(1, 2, 3, 4, 5)"
      ]
     },
     "execution_count": 158,
     "metadata": {},
     "output_type": "execute_result"
    }
   ],
   "source": [
    "t4[0:5]"
   ]
  },
  {
   "cell_type": "code",
   "execution_count": 162,
   "id": "82698a73-c591-4f6a-afba-127b4298420c",
   "metadata": {},
   "outputs": [
    {
     "data": {
      "text/plain": [
       "(7, 8)"
      ]
     },
     "execution_count": 162,
     "metadata": {},
     "output_type": "execute_result"
    }
   ],
   "source": [
    "t4[-3:-1]"
   ]
  },
  {
   "cell_type": "code",
   "execution_count": 166,
   "id": "6c3e805f-1307-4241-8ca5-903a5ae397c9",
   "metadata": {},
   "outputs": [],
   "source": [
    "t5=(54,99,56,21,32,11)"
   ]
  },
  {
   "cell_type": "code",
   "execution_count": 168,
   "id": "3b2df03a-dfb0-4d94-8753-353c556b6492",
   "metadata": {},
   "outputs": [
    {
     "ename": "TypeError",
     "evalue": "'tuple' object doesn't support item deletion",
     "output_type": "error",
     "traceback": [
      "\u001b[31m---------------------------------------------------------------------------\u001b[39m",
      "\u001b[31mTypeError\u001b[39m                                 Traceback (most recent call last)",
      "\u001b[36mCell\u001b[39m\u001b[36m \u001b[39m\u001b[32mIn[168]\u001b[39m\u001b[32m, line 1\u001b[39m\n\u001b[32m----> \u001b[39m\u001b[32m1\u001b[39m \u001b[38;5;28;01mdel\u001b[39;00m \u001b[43mt5\u001b[49m\u001b[43m[\u001b[49m\u001b[32;43m1\u001b[39;49m\u001b[43m]\u001b[49m\n",
      "\u001b[31mTypeError\u001b[39m: 'tuple' object doesn't support item deletion"
     ]
    }
   ],
   "source": [
    "del t5[1]"
   ]
  },
  {
   "cell_type": "code",
   "execution_count": 170,
   "id": "8f681c0b-c317-46c0-9b26-1a012d7284c8",
   "metadata": {},
   "outputs": [],
   "source": [
    "del t5"
   ]
  },
  {
   "cell_type": "code",
   "execution_count": 172,
   "id": "e5191423-3ec9-4c27-b7a4-eb610d01839c",
   "metadata": {},
   "outputs": [
    {
     "ename": "NameError",
     "evalue": "name 't5' is not defined",
     "output_type": "error",
     "traceback": [
      "\u001b[31m---------------------------------------------------------------------------\u001b[39m",
      "\u001b[31mNameError\u001b[39m                                 Traceback (most recent call last)",
      "\u001b[36mCell\u001b[39m\u001b[36m \u001b[39m\u001b[32mIn[172]\u001b[39m\u001b[32m, line 1\u001b[39m\n\u001b[32m----> \u001b[39m\u001b[32m1\u001b[39m \u001b[43mt5\u001b[49m\n",
      "\u001b[31mNameError\u001b[39m: name 't5' is not defined"
     ]
    }
   ],
   "source": [
    "t5"
   ]
  },
  {
   "cell_type": "code",
   "execution_count": 174,
   "id": "ab564d3c-6ccf-45e3-9966-df2d1608a66e",
   "metadata": {},
   "outputs": [
    {
     "data": {
      "text/plain": [
       "(1, 2, 3, 4, 5, 6, 7, 8, 9)"
      ]
     },
     "execution_count": 174,
     "metadata": {},
     "output_type": "execute_result"
    }
   ],
   "source": [
    "t4"
   ]
  },
  {
   "cell_type": "code",
   "execution_count": 178,
   "id": "7f271453-8200-4db3-ac64-ec8ad65d7269",
   "metadata": {},
   "outputs": [
    {
     "name": "stdout",
     "output_type": "stream",
     "text": [
      "1\n",
      "2\n",
      "3\n",
      "4\n",
      "5\n",
      "6\n",
      "7\n",
      "8\n",
      "9\n"
     ]
    }
   ],
   "source": [
    "for i in t4:\n",
    "    print( i)"
   ]
  },
  {
   "cell_type": "code",
   "execution_count": 180,
   "id": "10d0e47a-b6eb-4f6e-8ea0-32f199b5c851",
   "metadata": {},
   "outputs": [
    {
     "name": "stdout",
     "output_type": "stream",
     "text": [
      "(1, 2, 3, 4, 5, 6, 7, 8, 9)\n",
      "(1, 2, 3, 4, 5, 6, 7, 8, 9)\n",
      "(1, 2, 3, 4, 5, 6, 7, 8, 9)\n",
      "(1, 2, 3, 4, 5, 6, 7, 8, 9)\n",
      "(1, 2, 3, 4, 5, 6, 7, 8, 9)\n",
      "(1, 2, 3, 4, 5, 6, 7, 8, 9)\n",
      "(1, 2, 3, 4, 5, 6, 7, 8, 9)\n",
      "(1, 2, 3, 4, 5, 6, 7, 8, 9)\n",
      "(1, 2, 3, 4, 5, 6, 7, 8, 9)\n"
     ]
    }
   ],
   "source": [
    "for i in enumerate(t4):\n",
    "    print(t4)"
   ]
  },
  {
   "cell_type": "code",
   "execution_count": 182,
   "id": "d1cebfb4-5ff0-4ecd-b264-5a2de6dcc7d3",
   "metadata": {},
   "outputs": [
    {
     "data": {
      "text/plain": [
       "True"
      ]
     },
     "execution_count": 182,
     "metadata": {},
     "output_type": "execute_result"
    }
   ],
   "source": [
    "1 in t4"
   ]
  },
  {
   "cell_type": "code",
   "execution_count": 186,
   "id": "69f92122-969f-4bcd-98b4-595002b5cb4d",
   "metadata": {},
   "outputs": [
    {
     "name": "stdout",
     "output_type": "stream",
     "text": [
      "The number exist\n"
     ]
    }
   ],
   "source": [
    "if 1 in t4:\n",
    "    print('The number exist')\n",
    "else:\n",
    "    print('There is no number')"
   ]
  },
  {
   "cell_type": "code",
   "execution_count": 188,
   "id": "3b1b3682-557b-4b96-9157-f01e3ad1e028",
   "metadata": {},
   "outputs": [
    {
     "data": {
      "text/plain": [
       "0"
      ]
     },
     "execution_count": 188,
     "metadata": {},
     "output_type": "execute_result"
    }
   ],
   "source": [
    "t4.index(1)"
   ]
  },
  {
   "cell_type": "code",
   "execution_count": 190,
   "id": "1839b7e4-af40-4127-8b1e-efe4da3b181b",
   "metadata": {},
   "outputs": [
    {
     "data": {
      "text/plain": [
       "1"
      ]
     },
     "execution_count": 190,
     "metadata": {},
     "output_type": "execute_result"
    }
   ],
   "source": [
    "t4.count(6)"
   ]
  },
  {
   "cell_type": "code",
   "execution_count": 192,
   "id": "443e44c8-d70f-48a6-9140-f1e5b8926a07",
   "metadata": {},
   "outputs": [
    {
     "data": {
      "text/plain": [
       "[1, 2, 3, 4, 5, 6, 7, 8, 9]"
      ]
     },
     "execution_count": 192,
     "metadata": {},
     "output_type": "execute_result"
    }
   ],
   "source": [
    "sorted(t4)"
   ]
  },
  {
   "cell_type": "code",
   "execution_count": 194,
   "id": "8f8761f0-9bfe-4f6b-9b19-1f84029d2da8",
   "metadata": {},
   "outputs": [
    {
     "data": {
      "text/plain": [
       "[9, 8, 7, 6, 5, 4, 3, 2, 1]"
      ]
     },
     "execution_count": 194,
     "metadata": {},
     "output_type": "execute_result"
    }
   ],
   "source": [
    "sorted(t4,reverse=True)"
   ]
  },
  {
   "cell_type": "code",
   "execution_count": null,
   "id": "0961e957-9ebb-4b0d-b97f-8f0fddb4c0a3",
   "metadata": {},
   "outputs": [],
   "source": []
  }
 ],
 "metadata": {
  "kernelspec": {
   "display_name": "Python 3 (ipykernel)",
   "language": "python",
   "name": "python3"
  },
  "language_info": {
   "codemirror_mode": {
    "name": "ipython",
    "version": 3
   },
   "file_extension": ".py",
   "mimetype": "text/x-python",
   "name": "python",
   "nbconvert_exporter": "python",
   "pygments_lexer": "ipython3",
   "version": "3.12.7"
  }
 },
 "nbformat": 4,
 "nbformat_minor": 5
}
