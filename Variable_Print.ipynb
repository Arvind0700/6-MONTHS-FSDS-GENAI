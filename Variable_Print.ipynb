{
 "cells": [
  {
   "cell_type": "code",
   "execution_count": 1,
   "id": "2d3dcd1a-c01f-4002-9521-104b6573c8e3",
   "metadata": {},
   "outputs": [
    {
     "name": "stdout",
     "output_type": "stream",
     "text": [
      "107\n"
     ]
    }
   ],
   "source": [
    "a= 56\n",
    "b= 51\n",
    "\n",
    "result = a+b\n",
    "\n",
    "print(result)"
   ]
  },
  {
   "cell_type": "code",
   "execution_count": 3,
   "id": "03d328ac-1898-4d24-ae36-3306e7f799c4",
   "metadata": {},
   "outputs": [
    {
     "name": "stdout",
     "output_type": "stream",
     "text": [
      "45\n"
     ]
    }
   ],
   "source": [
    "score=45\n",
    "print(score)"
   ]
  },
  {
   "cell_type": "code",
   "execution_count": 5,
   "id": "952dea73-1c45-4fd8-aca3-97624770d3ff",
   "metadata": {},
   "outputs": [
    {
     "name": "stdout",
     "output_type": "stream",
     "text": [
      "100\n"
     ]
    }
   ],
   "source": [
    "score=100\n",
    "print(score)"
   ]
  },
  {
   "cell_type": "code",
   "execution_count": 11,
   "id": "f9fc064b-1b47-4f88-b3bf-88d891b967df",
   "metadata": {},
   "outputs": [
    {
     "name": "stdout",
     "output_type": "stream",
     "text": [
      "Arvind Das\n"
     ]
    }
   ],
   "source": [
    "first_name=\"Arvind\"\n",
    "last_name=\"Das\"\n",
    "Full_name=first_name+\" \"+ last_name\n",
    "print(Full_name)"
   ]
  },
  {
   "cell_type": "code",
   "execution_count": 13,
   "id": "2df5da80-da30-4fba-bf8c-7a76b74f07b5",
   "metadata": {},
   "outputs": [
    {
     "name": "stdout",
     "output_type": "stream",
     "text": [
      "4410\n"
     ]
    }
   ],
   "source": [
    "length=98\n",
    "width=45\n",
    "area=length*width\n",
    "print(area)"
   ]
  },
  {
   "cell_type": "code",
   "execution_count": 21,
   "id": "6ec8bfd0-2628-4610-9243-b6fa77a8905e",
   "metadata": {},
   "outputs": [
    {
     "name": "stdout",
     "output_type": "stream",
     "text": [
      "The addition of  31 and 89 is = 120\n"
     ]
    }
   ],
   "source": [
    "num1=31\n",
    "num2=89\n",
    "add=num1+num2\n",
    "print(\"The addition of \",num1,'and',num2,\"is =\" ,add)"
   ]
  },
  {
   "cell_type": "code",
   "execution_count": 39,
   "id": "fe6b7bee-cf0f-4bac-a18f-f0e10ee3c853",
   "metadata": {},
   "outputs": [
    {
     "name": "stdout",
     "output_type": "stream",
     "text": [
      "My name is Ram . My age is 25 . I am from Rayagada .\n"
     ]
    }
   ],
   "source": [
    "name=\"Ram\"\n",
    "age=25\n",
    "city=\"Rayagada\"\n",
    "print(\"My name is\",name,\".\",\"My age is\",age,\".\",\"I am from\",city,\".\")"
   ]
  },
  {
   "cell_type": "code",
   "execution_count": 41,
   "id": "2cbde11a-480e-45d3-a20c-9b6144b99cac",
   "metadata": {},
   "outputs": [
    {
     "name": "stdout",
     "output_type": "stream",
     "text": [
      "The addition of 34 and 45 = 79\n"
     ]
    }
   ],
   "source": [
    "num1=34\n",
    "num2=45\n",
    "add=num1+num2\n",
    "print('The addition of {} and {} = {}'.format(num1,num2,add))"
   ]
  },
  {
   "cell_type": "code",
   "execution_count": 65,
   "id": "97d25ac4-6ca0-485b-9270-1a2b657905df",
   "metadata": {},
   "outputs": [
    {
     "name": "stdout",
     "output_type": "stream",
     "text": [
      "the average of 45, 65 and 77 is= 62.333333333333336 or 62.33\n"
     ]
    }
   ],
   "source": [
    "num1=45\n",
    "num2=65\n",
    "num3=77\n",
    "avg=(num1+num2+num3)/3\n",
    "avg1=round((num1+num2+num3)/3,2)\n",
    "print('the average of {}, {} and {} is= {} or {}'.format(num1,num2,num3,avg,avg1))"
   ]
  },
  {
   "cell_type": "code",
   "execution_count": 67,
   "id": "b4118383-0d2a-480b-8d0e-a198944d28fe",
   "metadata": {},
   "outputs": [
    {
     "name": "stdout",
     "output_type": "stream",
     "text": [
      "The addition of 74 and 20 is= 94\n",
      "The addition of 74 and 20 is= 94\n",
      "The addition of 74 and 20 is= 94\n"
     ]
    }
   ],
   "source": [
    "num1=74\n",
    "num2=20\n",
    "add = num1+ num2\n",
    "print('The addition of',num1,'and',num2,'is=',add)\n",
    "print('The addition of {} and {} is= {}'.format(num1,num2,add))\n",
    "print(f'The addition of {num1} and {num2} is= {add}') #f is used for formatting the statement\n"
   ]
  },
  {
   "cell_type": "code",
   "execution_count": 71,
   "id": "42be842a-e2a2-4e63-8af6-4b9bbb0ba870",
   "metadata": {},
   "outputs": [
    {
     "data": {
      "text/plain": [
       "1.0"
      ]
     },
     "execution_count": 71,
     "metadata": {},
     "output_type": "execute_result"
    }
   ],
   "source": [
    "f=1e0\n",
    "f"
   ]
  },
  {
   "cell_type": "code",
   "execution_count": 73,
   "id": "f6480203-e7e0-4409-9402-9e301b2a2ee7",
   "metadata": {},
   "outputs": [
    {
     "data": {
      "text/plain": [
       "10.0"
      ]
     },
     "execution_count": 73,
     "metadata": {},
     "output_type": "execute_result"
    }
   ],
   "source": [
    "f2=1e1\n",
    "f2"
   ]
  },
  {
   "cell_type": "code",
   "execution_count": 75,
   "id": "10814fbd-d7a9-468f-8f96-12d35e1033bf",
   "metadata": {},
   "outputs": [
    {
     "data": {
      "text/plain": [
       "(1+2j)"
      ]
     },
     "execution_count": 75,
     "metadata": {},
     "output_type": "execute_result"
    }
   ],
   "source": [
    "c=1+2j\n",
    "c"
   ]
  },
  {
   "cell_type": "code",
   "execution_count": 77,
   "id": "d9175423-f08d-40bd-be04-4134ed452624",
   "metadata": {},
   "outputs": [
    {
     "data": {
      "text/plain": [
       "complex"
      ]
     },
     "execution_count": 77,
     "metadata": {},
     "output_type": "execute_result"
    }
   ],
   "source": [
    "type(c)"
   ]
  },
  {
   "cell_type": "code",
   "execution_count": 79,
   "id": "1dbcf818-a85f-4788-91a5-45048dfa28f3",
   "metadata": {},
   "outputs": [
    {
     "data": {
      "text/plain": [
       "1.0"
      ]
     },
     "execution_count": 79,
     "metadata": {},
     "output_type": "execute_result"
    }
   ],
   "source": [
    "c.real"
   ]
  },
  {
   "cell_type": "code",
   "execution_count": 81,
   "id": "05509971-c724-43ea-90e3-4ce671c30de5",
   "metadata": {},
   "outputs": [
    {
     "data": {
      "text/plain": [
       "2.0"
      ]
     },
     "execution_count": 81,
     "metadata": {},
     "output_type": "execute_result"
    }
   ],
   "source": [
    "c.imag"
   ]
  },
  {
   "cell_type": "code",
   "execution_count": 83,
   "id": "fadd2b4f-3045-4b76-9199-a4116e3d25d0",
   "metadata": {},
   "outputs": [
    {
     "data": {
      "text/plain": [
       "2"
      ]
     },
     "execution_count": 83,
     "metadata": {},
     "output_type": "execute_result"
    }
   ],
   "source": [
    "True+True"
   ]
  },
  {
   "cell_type": "code",
   "execution_count": 85,
   "id": "ed792cfd-a932-4b6c-8399-27994e967c3a",
   "metadata": {},
   "outputs": [
    {
     "data": {
      "text/plain": [
       "1"
      ]
     },
     "execution_count": 85,
     "metadata": {},
     "output_type": "execute_result"
    }
   ],
   "source": [
    "False+True"
   ]
  },
  {
   "cell_type": "code",
   "execution_count": 87,
   "id": "bcf750e2-5bee-4bf4-a54b-ac3c3beb9fdf",
   "metadata": {},
   "outputs": [
    {
     "data": {
      "text/plain": [
       "2"
      ]
     },
     "execution_count": 87,
     "metadata": {},
     "output_type": "execute_result"
    }
   ],
   "source": [
    "True+False*False+True"
   ]
  },
  {
   "cell_type": "code",
   "execution_count": null,
   "id": "868a74fd-ee7b-4e95-9d93-7b3f503e4d73",
   "metadata": {},
   "outputs": [],
   "source": []
  }
 ],
 "metadata": {
  "kernelspec": {
   "display_name": "Python [conda env:base] *",
   "language": "python",
   "name": "conda-base-py"
  },
  "language_info": {
   "codemirror_mode": {
    "name": "ipython",
    "version": 3
   },
   "file_extension": ".py",
   "mimetype": "text/x-python",
   "name": "python",
   "nbconvert_exporter": "python",
   "pygments_lexer": "ipython3",
   "version": "3.12.7"
  }
 },
 "nbformat": 4,
 "nbformat_minor": 5
}
