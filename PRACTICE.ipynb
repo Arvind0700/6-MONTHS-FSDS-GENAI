{
 "cells": [
  {
   "cell_type": "code",
   "execution_count": 1,
   "id": "6fc9225c-8f34-4d1a-bc8a-2d8bff99800c",
   "metadata": {},
   "outputs": [
    {
     "data": {
      "text/plain": [
       "['False',\n",
       " 'None',\n",
       " 'True',\n",
       " 'and',\n",
       " 'as',\n",
       " 'assert',\n",
       " 'async',\n",
       " 'await',\n",
       " 'break',\n",
       " 'class',\n",
       " 'continue',\n",
       " 'def',\n",
       " 'del',\n",
       " 'elif',\n",
       " 'else',\n",
       " 'except',\n",
       " 'finally',\n",
       " 'for',\n",
       " 'from',\n",
       " 'global',\n",
       " 'if',\n",
       " 'import',\n",
       " 'in',\n",
       " 'is',\n",
       " 'lambda',\n",
       " 'nonlocal',\n",
       " 'not',\n",
       " 'or',\n",
       " 'pass',\n",
       " 'raise',\n",
       " 'return',\n",
       " 'try',\n",
       " 'while',\n",
       " 'with',\n",
       " 'yield']"
      ]
     },
     "execution_count": 1,
     "metadata": {},
     "output_type": "execute_result"
    }
   ],
   "source": [
    "import keyword\n",
    "keyword.kwlist"
   ]
  },
  {
   "cell_type": "code",
   "execution_count": 3,
   "id": "37d18b70-2547-43a1-a250-913347dbb62e",
   "metadata": {},
   "outputs": [
    {
     "data": {
      "text/plain": [
       "35"
      ]
     },
     "execution_count": 3,
     "metadata": {},
     "output_type": "execute_result"
    }
   ],
   "source": [
    "len(keyword.kwlist)"
   ]
  },
  {
   "cell_type": "code",
   "execution_count": 5,
   "id": "028e9bd5-53fb-4480-9069-8e727ef5a2d1",
   "metadata": {},
   "outputs": [],
   "source": [
    "prefix='ox'\n",
    "prefix='ford'"
   ]
  },
  {
   "cell_type": "code",
   "execution_count": 7,
   "id": "d8d8fa39-b8d4-4942-b6ff-8e7cd3398e06",
   "metadata": {},
   "outputs": [
    {
     "data": {
      "text/plain": [
       "'ford'"
      ]
     },
     "execution_count": 7,
     "metadata": {},
     "output_type": "execute_result"
    }
   ],
   "source": [
    "prefix"
   ]
  },
  {
   "cell_type": "code",
   "execution_count": 9,
   "id": "d7e288b9-9f51-49a9-b130-99fed6511d8d",
   "metadata": {},
   "outputs": [
    {
     "data": {
      "text/plain": [
       "'oxford'"
      ]
     },
     "execution_count": 9,
     "metadata": {},
     "output_type": "execute_result"
    }
   ],
   "source": [
    "'ox'+prefix"
   ]
  },
  {
   "cell_type": "code",
   "execution_count": 11,
   "id": "aa2843ec-304a-4472-8321-7f8fdbfd6950",
   "metadata": {},
   "outputs": [
    {
     "data": {
      "text/plain": [
       "int"
      ]
     },
     "execution_count": 11,
     "metadata": {},
     "output_type": "execute_result"
    }
   ],
   "source": [
    "i=32\n",
    "type(i)"
   ]
  },
  {
   "cell_type": "code",
   "execution_count": 13,
   "id": "68a2bbb9-11a2-4320-8040-7fce0669de18",
   "metadata": {},
   "outputs": [
    {
     "data": {
      "text/plain": [
       "float"
      ]
     },
     "execution_count": 13,
     "metadata": {},
     "output_type": "execute_result"
    }
   ],
   "source": [
    "f=213.43\n",
    "type(f)"
   ]
  },
  {
   "cell_type": "code",
   "execution_count": 15,
   "id": "33c1babb-39d4-4e5f-a669-a4e93d725b87",
   "metadata": {},
   "outputs": [
    {
     "data": {
      "text/plain": [
       "1.0"
      ]
     },
     "execution_count": 15,
     "metadata": {},
     "output_type": "execute_result"
    }
   ],
   "source": [
    "f1=1e0\n",
    "f1"
   ]
  },
  {
   "cell_type": "code",
   "execution_count": 17,
   "id": "87e414b8-6baa-489e-b37d-801b0df54937",
   "metadata": {},
   "outputs": [
    {
     "data": {
      "text/plain": [
       "10.0"
      ]
     },
     "execution_count": 17,
     "metadata": {},
     "output_type": "execute_result"
    }
   ],
   "source": [
    "f1=1e1\n",
    "f1"
   ]
  },
  {
   "cell_type": "code",
   "execution_count": 19,
   "id": "6f7520a4-8843-4dbe-a697-93e2195fa5ad",
   "metadata": {},
   "outputs": [
    {
     "data": {
      "text/plain": [
       "1000.0"
      ]
     },
     "execution_count": 19,
     "metadata": {},
     "output_type": "execute_result"
    }
   ],
   "source": [
    "f2=1E3\n",
    "f2"
   ]
  },
  {
   "cell_type": "code",
   "execution_count": 21,
   "id": "60655cd9-2d03-4e99-98c0-c18ba923aa4f",
   "metadata": {},
   "outputs": [
    {
     "name": "stdout",
     "output_type": "stream",
     "text": [
      "36\n",
      "12\n",
      "288\n",
      "2.0\n"
     ]
    }
   ],
   "source": [
    "a=24\n",
    "b=12\n",
    "print(a+b)\n",
    "print(a-b)\n",
    "print(a*b)\n",
    "print(a/b)"
   ]
  },
  {
   "cell_type": "code",
   "execution_count": 23,
   "id": "72240576-8b1a-4e71-8cc2-9d746be232f3",
   "metadata": {},
   "outputs": [
    {
     "name": "stdout",
     "output_type": "stream",
     "text": [
      "The addition of 23 and 25 is = 48\n"
     ]
    }
   ],
   "source": [
    "num1=23\n",
    "num2=25\n",
    "result=num1+num2\n",
    "print('The addition of',num1,'and',num2,'is =',result)"
   ]
  },
  {
   "cell_type": "code",
   "execution_count": 25,
   "id": "3151f456-a972-473b-acbe-fd44c0e924a7",
   "metadata": {},
   "outputs": [
    {
     "name": "stdout",
     "output_type": "stream",
     "text": [
      "the addition of 23 and 12 is = 35\n"
     ]
    }
   ],
   "source": [
    "num1=23\n",
    "num2=12\n",
    "num3=num1+num2\n",
    "print('the addition of {} and {} is = {}'.format(num1,num2,num3))"
   ]
  },
  {
   "cell_type": "code",
   "execution_count": 27,
   "id": "b5d86d00-e420-4100-a8c4-0cc8f1c70055",
   "metadata": {},
   "outputs": [
    {
     "name": "stdout",
     "output_type": "stream",
     "text": [
      "the multiplication of 4 and 20 is = 80\n"
     ]
    }
   ],
   "source": [
    "num1=4\n",
    "num2=20\n",
    "num3=num1*num2\n",
    "print('the multiplication of {} and {} is = {}'.format(num1,num2,num3))"
   ]
  },
  {
   "cell_type": "code",
   "execution_count": 29,
   "id": "9119eb0b-2446-4a9d-8fd4-3537757976ad",
   "metadata": {},
   "outputs": [
    {
     "data": {
      "text/plain": [
       "(1+4j)"
      ]
     },
     "execution_count": 29,
     "metadata": {},
     "output_type": "execute_result"
    }
   ],
   "source": [
    "c=1+4j\n",
    "c"
   ]
  },
  {
   "cell_type": "code",
   "execution_count": 31,
   "id": "7cfd6e17-0ade-47f3-bab5-18c89e520af1",
   "metadata": {},
   "outputs": [
    {
     "data": {
      "text/plain": [
       "complex"
      ]
     },
     "execution_count": 31,
     "metadata": {},
     "output_type": "execute_result"
    }
   ],
   "source": [
    "type(c)"
   ]
  },
  {
   "cell_type": "code",
   "execution_count": 33,
   "id": "b19fda91-8644-4676-a358-2ea43fb1fb80",
   "metadata": {},
   "outputs": [
    {
     "data": {
      "text/plain": [
       "1.0"
      ]
     },
     "execution_count": 33,
     "metadata": {},
     "output_type": "execute_result"
    }
   ],
   "source": [
    "c.real"
   ]
  },
  {
   "cell_type": "code",
   "execution_count": 35,
   "id": "f60cc386-a0ee-4ad8-9bf5-252e8b16d3d5",
   "metadata": {},
   "outputs": [
    {
     "data": {
      "text/plain": [
       "4.0"
      ]
     },
     "execution_count": 35,
     "metadata": {},
     "output_type": "execute_result"
    }
   ],
   "source": [
    "c.imag"
   ]
  },
  {
   "cell_type": "code",
   "execution_count": 37,
   "id": "c4694235-90a5-446c-ba49-fea73e608646",
   "metadata": {},
   "outputs": [
    {
     "name": "stdout",
     "output_type": "stream",
     "text": [
      "(3+5j)\n",
      "(-4+7j)\n"
     ]
    }
   ],
   "source": [
    "c=2+3j\n",
    "e=1+2j\n",
    "\n",
    "print(c+e)\n",
    "print(c*e)"
   ]
  },
  {
   "cell_type": "code",
   "execution_count": 39,
   "id": "a2f7644d-cca5-4ff1-8f49-26ed39dc4e68",
   "metadata": {},
   "outputs": [],
   "source": [
    "def Rahul():\n",
    "    print('Hola')  #It generally takes 4 spaces while defining any class."
   ]
  },
  {
   "cell_type": "code",
   "execution_count": 41,
   "id": "1773a093-55fc-4c3c-956f-c9d8af1543ee",
   "metadata": {},
   "outputs": [
    {
     "data": {
      "text/plain": [
       "2"
      ]
     },
     "execution_count": 41,
     "metadata": {},
     "output_type": "execute_result"
    }
   ],
   "source": [
    "True+True"
   ]
  },
  {
   "cell_type": "code",
   "execution_count": 43,
   "id": "42a55e16-e0b3-48ba-b82f-8bd15a41a167",
   "metadata": {},
   "outputs": [
    {
     "data": {
      "text/plain": [
       "1"
      ]
     },
     "execution_count": 43,
     "metadata": {},
     "output_type": "execute_result"
    }
   ],
   "source": [
    "True+True*False-False"
   ]
  },
  {
   "cell_type": "code",
   "execution_count": 45,
   "id": "7ceb7cfb-cfd6-4f4b-9d83-945695b920e4",
   "metadata": {},
   "outputs": [
    {
     "name": "stdout",
     "output_type": "stream",
     "text": [
      "140721132809400\n",
      "140721132809400\n",
      "140721132809400\n"
     ]
    }
   ],
   "source": [
    "p=q=r=25\n",
    "print(id(p))\n",
    "print(id(q))\n",
    "print(id(r))"
   ]
  },
  {
   "cell_type": "code",
   "execution_count": 47,
   "id": "4be18fbd-6490-44db-9b3b-964e2439cd59",
   "metadata": {},
   "outputs": [
    {
     "name": "stdout",
     "output_type": "stream",
     "text": [
      "140721132808984\n",
      "140721132809016\n",
      "140721132809048\n"
     ]
    }
   ],
   "source": [
    "p1,q1,r1=12,13,14\n",
    "print(id(p1))\n",
    "print(id(q1))\n",
    "print(id(r1))"
   ]
  },
  {
   "cell_type": "code",
   "execution_count": 49,
   "id": "dffef641-3b0d-420f-bc40-2a61e3c4f5f9",
   "metadata": {},
   "outputs": [
    {
     "data": {
      "text/plain": [
       "19"
      ]
     },
     "execution_count": 49,
     "metadata": {},
     "output_type": "execute_result"
    }
   ],
   "source": [
    "s='Rahul is a good boy'\n",
    "len(s)"
   ]
  },
  {
   "cell_type": "code",
   "execution_count": 51,
   "id": "43728dad-fc1e-4ee1-8029-8d49f0172c64",
   "metadata": {},
   "outputs": [
    {
     "data": {
      "text/plain": [
       "'R'"
      ]
     },
     "execution_count": 51,
     "metadata": {},
     "output_type": "execute_result"
    }
   ],
   "source": [
    "s[0]"
   ]
  },
  {
   "cell_type": "code",
   "execution_count": 53,
   "id": "86035918-2c5a-4f7e-b054-05ea5a9d0fe6",
   "metadata": {},
   "outputs": [
    {
     "data": {
      "text/plain": [
       "'y'"
      ]
     },
     "execution_count": 53,
     "metadata": {},
     "output_type": "execute_result"
    }
   ],
   "source": [
    "s[-1]"
   ]
  },
  {
   "cell_type": "code",
   "execution_count": 57,
   "id": "29e333ec-3ca0-4caa-b99c-8e5875327331",
   "metadata": {},
   "outputs": [
    {
     "data": {
      "text/plain": [
       "'Rahul is a good'"
      ]
     },
     "execution_count": 57,
     "metadata": {},
     "output_type": "execute_result"
    }
   ],
   "source": [
    "s[0:15]"
   ]
  },
  {
   "cell_type": "code",
   "execution_count": 59,
   "id": "5e743ec7-906b-4e34-9605-00793688edfa",
   "metadata": {},
   "outputs": [
    {
     "data": {
      "text/plain": [
       "'s a good'"
      ]
     },
     "execution_count": 59,
     "metadata": {},
     "output_type": "execute_result"
    }
   ],
   "source": [
    "s[7:15]"
   ]
  },
  {
   "cell_type": "code",
   "execution_count": 61,
   "id": "4d9b4cf6-85c8-439e-b230-5313cff6399f",
   "metadata": {},
   "outputs": [
    {
     "data": {
      "text/plain": [
       "' b'"
      ]
     },
     "execution_count": 61,
     "metadata": {},
     "output_type": "execute_result"
    }
   ],
   "source": [
    "s[-4:-2]"
   ]
  },
  {
   "cell_type": "code",
   "execution_count": 63,
   "id": "f66a6c04-7ba9-4984-a7cc-52b5d5fb8aba",
   "metadata": {},
   "outputs": [
    {
     "data": {
      "text/plain": [
       "'ul is a good boy'"
      ]
     },
     "execution_count": 63,
     "metadata": {},
     "output_type": "execute_result"
    }
   ],
   "source": [
    "s[3:]"
   ]
  },
  {
   "cell_type": "code",
   "execution_count": 65,
   "id": "440de39b-2d93-49f3-a34d-79ca70897ee0",
   "metadata": {},
   "outputs": [
    {
     "data": {
      "text/plain": [
       "'Rahul'"
      ]
     },
     "execution_count": 65,
     "metadata": {},
     "output_type": "execute_result"
    }
   ],
   "source": [
    "s[:5]"
   ]
  },
  {
   "cell_type": "code",
   "execution_count": 67,
   "id": "173f33a0-2160-4c19-8d60-1d0b2fdf8af9",
   "metadata": {},
   "outputs": [
    {
     "data": {
      "text/plain": [
       "'yob doog a si luhaR'"
      ]
     },
     "execution_count": 67,
     "metadata": {},
     "output_type": "execute_result"
    }
   ],
   "source": [
    "s[::-1]"
   ]
  },
  {
   "cell_type": "code",
   "execution_count": 73,
   "id": "39635b94-286b-4477-99cd-2db56e5d398f",
   "metadata": {},
   "outputs": [
    {
     "data": {
      "text/plain": [
       "'Rahul is a good boy'"
      ]
     },
     "execution_count": 73,
     "metadata": {},
     "output_type": "execute_result"
    }
   ],
   "source": [
    "s[0:19:1]"
   ]
  },
  {
   "cell_type": "code",
   "execution_count": 75,
   "id": "ff330f44-b303-47e0-85a7-a8a02508bf15",
   "metadata": {},
   "outputs": [
    {
     "data": {
      "text/plain": [
       "'Rhli  odby'"
      ]
     },
     "execution_count": 75,
     "metadata": {},
     "output_type": "execute_result"
    }
   ],
   "source": [
    "s[0:19:2]"
   ]
  },
  {
   "cell_type": "code",
   "execution_count": 79,
   "id": "1ed9c039-d302-45e4-b6fa-b3185327ecfb",
   "metadata": {},
   "outputs": [
    {
     "data": {
      "text/plain": [
       "1.2"
      ]
     },
     "execution_count": 79,
     "metadata": {},
     "output_type": "execute_result"
    }
   ],
   "source": [
    "float(1.2)"
   ]
  },
  {
   "cell_type": "code",
   "execution_count": 81,
   "id": "5f7b948a-37ae-4927-ad6c-91c6db00ab4a",
   "metadata": {},
   "outputs": [
    {
     "name": "stdout",
     "output_type": "stream",
     "text": [
      "2\n",
      "1\n",
      "12\n"
     ]
    }
   ],
   "source": [
    "print(int(2.1))\n",
    "print(int(True))\n",
    "print(int('12'))  #Integer cannot be converted into complex and strings cannot be converted into float."
   ]
  },
  {
   "cell_type": "code",
   "execution_count": 83,
   "id": "b0ab67e7-46e5-4580-8f1d-7a097a23ffc4",
   "metadata": {},
   "outputs": [
    {
     "data": {
      "text/plain": [
       "str"
      ]
     },
     "execution_count": 83,
     "metadata": {},
     "output_type": "execute_result"
    }
   ],
   "source": [
    "s='2'\n",
    "type(s)"
   ]
  },
  {
   "cell_type": "code",
   "execution_count": 87,
   "id": "adb52d37-de4f-4220-900d-101346875be0",
   "metadata": {},
   "outputs": [
    {
     "name": "stdout",
     "output_type": "stream",
     "text": [
      "2.0\n"
     ]
    }
   ],
   "source": [
    "print(float(2))"
   ]
  },
  {
   "cell_type": "code",
   "execution_count": 91,
   "id": "1388da76-c0d3-4778-b9c7-3ca9a824c1f0",
   "metadata": {},
   "outputs": [
    {
     "data": {
      "text/plain": [
       "list"
      ]
     },
     "execution_count": 91,
     "metadata": {},
     "output_type": "execute_result"
    }
   ],
   "source": [
    "l=[]\n",
    "type(l)"
   ]
  },
  {
   "cell_type": "code",
   "execution_count": 93,
   "id": "08932255-c7b5-4742-8b74-27614c6f49d7",
   "metadata": {},
   "outputs": [
    {
     "name": "stdout",
     "output_type": "stream",
     "text": [
      "<class 'list'>\n"
     ]
    }
   ],
   "source": [
    "print(type(l))"
   ]
  },
  {
   "cell_type": "code",
   "execution_count": 95,
   "id": "bd978b5e-702c-40b2-8337-01a4677b7155",
   "metadata": {},
   "outputs": [
    {
     "data": {
      "text/plain": [
       "0"
      ]
     },
     "execution_count": 95,
     "metadata": {},
     "output_type": "execute_result"
    }
   ],
   "source": [
    "len(l)"
   ]
  },
  {
   "cell_type": "code",
   "execution_count": 97,
   "id": "91f5e14f-4318-4da3-9088-46b793e718a7",
   "metadata": {},
   "outputs": [],
   "source": [
    "l.append(11)"
   ]
  },
  {
   "cell_type": "code",
   "execution_count": 99,
   "id": "579b9ec0-c179-471d-b4ab-a22f0934f103",
   "metadata": {},
   "outputs": [
    {
     "data": {
      "text/plain": [
       "[11]"
      ]
     },
     "execution_count": 99,
     "metadata": {},
     "output_type": "execute_result"
    }
   ],
   "source": [
    "l"
   ]
  },
  {
   "cell_type": "code",
   "execution_count": 101,
   "id": "afe00f80-7f84-499a-8a7b-827029067c6a",
   "metadata": {},
   "outputs": [
    {
     "data": {
      "text/plain": [
       "1"
      ]
     },
     "execution_count": 101,
     "metadata": {},
     "output_type": "execute_result"
    }
   ],
   "source": [
    "len(l)"
   ]
  },
  {
   "cell_type": "code",
   "execution_count": 105,
   "id": "74172e65-2c57-41e5-9191-d6b9d425eb67",
   "metadata": {},
   "outputs": [
    {
     "data": {
      "text/plain": [
       "[11, 12, 13, 14, 11, 12, 13, 14, 11]"
      ]
     },
     "execution_count": 105,
     "metadata": {},
     "output_type": "execute_result"
    }
   ],
   "source": [
    "l.append(12)\n",
    "l.append(13)\n",
    "l.append(14)\n",
    "l.append(11)\n",
    "l    #APPEND IS GENERALLY USED FOR ADDING A VALUE TO THE END OF THE LIST."
   ]
  },
  {
   "cell_type": "code",
   "execution_count": null,
   "id": "b92bce6c-d2f1-4658-a325-df1a36840d75",
   "metadata": {},
   "outputs": [],
   "source": []
  }
 ],
 "metadata": {
  "kernelspec": {
   "display_name": "Python 3 (ipykernel)",
   "language": "python",
   "name": "python3"
  },
  "language_info": {
   "codemirror_mode": {
    "name": "ipython",
    "version": 3
   },
   "file_extension": ".py",
   "mimetype": "text/x-python",
   "name": "python",
   "nbconvert_exporter": "python",
   "pygments_lexer": "ipython3",
   "version": "3.12.7"
  }
 },
 "nbformat": 4,
 "nbformat_minor": 5
}
