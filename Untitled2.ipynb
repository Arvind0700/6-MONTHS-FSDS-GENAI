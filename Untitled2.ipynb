{
 "cells": [
  {
   "cell_type": "code",
   "execution_count": 1,
   "id": "a19e4c68-ab7f-428a-a065-b6ff2bf73feb",
   "metadata": {},
   "outputs": [
    {
     "ename": "NameError",
     "evalue": "name 'math' is not defined",
     "output_type": "error",
     "traceback": [
      "\u001b[1;31m---------------------------------------------------------------------------\u001b[0m",
      "\u001b[1;31mNameError\u001b[0m                                 Traceback (most recent call last)",
      "Cell \u001b[1;32mIn[1], line 1\u001b[0m\n\u001b[1;32m----> 1\u001b[0m math\u001b[38;5;241m.\u001b[39mceil(\u001b[38;5;241m9.4\u001b[39m)\n",
      "\u001b[1;31mNameError\u001b[0m: name 'math' is not defined"
     ]
    }
   ],
   "source": [
    "math.ceil(9.4)\n"
   ]
  },
  {
   "cell_type": "code",
   "execution_count": 3,
   "id": "e2323126-ba59-4e16-83ba-d4c9b5238c59",
   "metadata": {},
   "outputs": [],
   "source": [
    "import math"
   ]
  },
  {
   "cell_type": "code",
   "execution_count": 5,
   "id": "5861588e-411b-46f1-9ba7-5ba3239c75d9",
   "metadata": {},
   "outputs": [
    {
     "data": {
      "text/plain": [
       "10"
      ]
     },
     "execution_count": 5,
     "metadata": {},
     "output_type": "execute_result"
    }
   ],
   "source": [
    "math.ceil(9.4)"
   ]
  },
  {
   "cell_type": "code",
   "execution_count": 7,
   "id": "8ce66689-71a9-4cbf-8b88-2577be9a0f74",
   "metadata": {},
   "outputs": [
    {
     "data": {
      "text/plain": [
       "9"
      ]
     },
     "execution_count": 7,
     "metadata": {},
     "output_type": "execute_result"
    }
   ],
   "source": [
    "math.floor(9.7)"
   ]
  },
  {
   "cell_type": "code",
   "execution_count": 9,
   "id": "2d8f830b-162b-4ec5-8d85-9d100e2dcfee",
   "metadata": {},
   "outputs": [],
   "source": [
    "s='hello'"
   ]
  },
  {
   "cell_type": "code",
   "execution_count": 11,
   "id": "bed07bcd-6052-42c5-98a6-1d174b657683",
   "metadata": {},
   "outputs": [
    {
     "data": {
      "text/plain": [
       "'h'"
      ]
     },
     "execution_count": 11,
     "metadata": {},
     "output_type": "execute_result"
    }
   ],
   "source": [
    "s[0]\n"
   ]
  },
  {
   "cell_type": "code",
   "execution_count": 1,
   "id": "58f7f4cc-0bac-44fd-b47c-9ed055275eac",
   "metadata": {},
   "outputs": [
    {
     "data": {
      "text/plain": [
       "5"
      ]
     },
     "execution_count": 1,
     "metadata": {},
     "output_type": "execute_result"
    }
   ],
   "source": [
    "v=5\n",
    "v"
   ]
  },
  {
   "cell_type": "code",
   "execution_count": 3,
   "id": "8b42c864-dbec-4f59-98d1-7f7b2c673290",
   "metadata": {},
   "outputs": [
    {
     "data": {
      "text/plain": [
       "140721456228920"
      ]
     },
     "execution_count": 3,
     "metadata": {},
     "output_type": "execute_result"
    }
   ],
   "source": [
    "id(5)\n"
   ]
  },
  {
   "cell_type": "code",
   "execution_count": 5,
   "id": "251672bf-f5c2-49d6-bd4d-e83ab200f015",
   "metadata": {},
   "outputs": [
    {
     "data": {
      "text/plain": [
       "140721456228920"
      ]
     },
     "execution_count": 5,
     "metadata": {},
     "output_type": "execute_result"
    }
   ],
   "source": [
    "id(v)"
   ]
  },
  {
   "cell_type": "code",
   "execution_count": 7,
   "id": "f91ed384-fc6d-4e4f-8064-c8ac653f83b8",
   "metadata": {},
   "outputs": [
    {
     "data": {
      "text/plain": [
       "10"
      ]
     },
     "execution_count": 7,
     "metadata": {},
     "output_type": "execute_result"
    }
   ],
   "source": [
    "V2=10\n",
    "V2"
   ]
  },
  {
   "cell_type": "code",
   "execution_count": 9,
   "id": "401d27b4-4dde-4648-ab5e-1a1cf083e27b",
   "metadata": {},
   "outputs": [
    {
     "ename": "SyntaxError",
     "evalue": "invalid syntax (3551698361.py, line 2)",
     "output_type": "error",
     "traceback": [
      "\u001b[1;36m  Cell \u001b[1;32mIn[9], line 2\u001b[1;36m\u001b[0m\n\u001b[1;33m    V@\u001b[0m\n\u001b[1;37m      ^\u001b[0m\n\u001b[1;31mSyntaxError\u001b[0m\u001b[1;31m:\u001b[0m invalid syntax\n"
     ]
    }
   ],
   "source": [
    "V@=12\n",
    "V@"
   ]
  },
  {
   "cell_type": "code",
   "execution_count": 11,
   "id": "6350f3e2-dfd4-4623-94e6-26e8368c0267",
   "metadata": {},
   "outputs": [
    {
     "data": {
      "text/plain": [
       "10"
      ]
     },
     "execution_count": 11,
     "metadata": {},
     "output_type": "execute_result"
    }
   ],
   "source": [
    "v_=10\n",
    "v_"
   ]
  },
  {
   "cell_type": "code",
   "execution_count": 13,
   "id": "b587c79c-9392-4165-9944-f71256bf0427",
   "metadata": {},
   "outputs": [
    {
     "data": {
      "text/plain": [
       "['False',\n",
       " 'None',\n",
       " 'True',\n",
       " 'and',\n",
       " 'as',\n",
       " 'assert',\n",
       " 'async',\n",
       " 'await',\n",
       " 'break',\n",
       " 'class',\n",
       " 'continue',\n",
       " 'def',\n",
       " 'del',\n",
       " 'elif',\n",
       " 'else',\n",
       " 'except',\n",
       " 'finally',\n",
       " 'for',\n",
       " 'from',\n",
       " 'global',\n",
       " 'if',\n",
       " 'import',\n",
       " 'in',\n",
       " 'is',\n",
       " 'lambda',\n",
       " 'nonlocal',\n",
       " 'not',\n",
       " 'or',\n",
       " 'pass',\n",
       " 'raise',\n",
       " 'return',\n",
       " 'try',\n",
       " 'while',\n",
       " 'with',\n",
       " 'yield']"
      ]
     },
     "execution_count": 13,
     "metadata": {},
     "output_type": "execute_result"
    }
   ],
   "source": [
    "import keyword\n",
    "keyword.kwlist"
   ]
  },
  {
   "cell_type": "code",
   "execution_count": 15,
   "id": "23bbefab-5345-4c6c-a498-4e73232422c6",
   "metadata": {},
   "outputs": [
    {
     "data": {
      "text/plain": [
       "35"
      ]
     },
     "execution_count": 15,
     "metadata": {},
     "output_type": "execute_result"
    }
   ],
   "source": [
    "len(keyword.kwlist)"
   ]
  },
  {
   "cell_type": "code",
   "execution_count": 17,
   "id": "db4f4e1f-c4a9-452f-80f8-37a780ec22e8",
   "metadata": {},
   "outputs": [
    {
     "data": {
      "text/plain": [
       "4"
      ]
     },
     "execution_count": 17,
     "metadata": {},
     "output_type": "execute_result"
    }
   ],
   "source": [
    "2+2                                                                                                                                                                                                                                                                                                                                                                                                                                                                                                                                                                                                                                                                                    "
   ]
  },
  {
   "cell_type": "code",
   "execution_count": 19,
   "id": "84b47a84-c6e1-4bca-b6fc-93e091a01592",
   "metadata": {},
   "outputs": [
    {
     "data": {
      "text/plain": [
       "20"
      ]
     },
     "execution_count": 19,
     "metadata": {},
     "output_type": "execute_result"
    }
   ],
   "source": [
    "50-5*6"
   ]
  },
  {
   "cell_type": "code",
   "execution_count": 21,
   "id": "a0c99513-e74b-4936-a9ad-5d54f5123ae6",
   "metadata": {},
   "outputs": [
    {
     "data": {
      "text/plain": [
       "22.5"
      ]
     },
     "execution_count": 21,
     "metadata": {},
     "output_type": "execute_result"
    }
   ],
   "source": [
    "(98-8*1)/4"
   ]
  },
  {
   "cell_type": "code",
   "execution_count": 23,
   "id": "a58edd8a-1a77-49c6-aa30-644d7fdb3440",
   "metadata": {},
   "outputs": [
    {
     "data": {
      "text/plain": [
       "2.0"
      ]
     },
     "execution_count": 23,
     "metadata": {},
     "output_type": "execute_result"
    }
   ],
   "source": [
    "8/4"
   ]
  },
  {
   "cell_type": "code",
   "execution_count": 1,
   "id": "267dbda2-5c22-4790-987d-01c235673b77",
   "metadata": {},
   "outputs": [],
   "source": [
    "#how are you?"
   ]
  },
  {
   "cell_type": "code",
   "execution_count": 3,
   "id": "e65417ff-0f3b-417a-ab2a-a527905e2092",
   "metadata": {},
   "outputs": [
    {
     "data": {
      "text/plain": [
       "\"#how's going?\""
      ]
     },
     "execution_count": 3,
     "metadata": {},
     "output_type": "execute_result"
    }
   ],
   "source": [
    "\"#how's going?\""
   ]
  },
  {
   "cell_type": "code",
   "execution_count": 5,
   "id": "4071ee87-0ed0-4e65-8e3e-e2c5293b5b33",
   "metadata": {},
   "outputs": [
    {
     "data": {
      "text/plain": [
       "5.666666666666667"
      ]
     },
     "execution_count": 5,
     "metadata": {},
     "output_type": "execute_result"
    }
   ],
   "source": [
    "17/3"
   ]
  },
  {
   "cell_type": "code",
   "execution_count": 7,
   "id": "f183c2ee-7439-4d7a-bf6c-609e2cb9f0dc",
   "metadata": {},
   "outputs": [
    {
     "data": {
      "text/plain": [
       "5"
      ]
     },
     "execution_count": 7,
     "metadata": {},
     "output_type": "execute_result"
    }
   ],
   "source": [
    "17//3"
   ]
  },
  {
   "cell_type": "code",
   "execution_count": 9,
   "id": "6ff0e0d3-043b-436b-8109-44474abb3c20",
   "metadata": {},
   "outputs": [
    {
     "data": {
      "text/plain": [
       "2"
      ]
     },
     "execution_count": 9,
     "metadata": {},
     "output_type": "execute_result"
    }
   ],
   "source": [
    "17%3"
   ]
  },
  {
   "cell_type": "code",
   "execution_count": 11,
   "id": "4271e85b-0d36-46b6-b4d6-f7e6f350671a",
   "metadata": {},
   "outputs": [
    {
     "data": {
      "text/plain": [
       "17"
      ]
     },
     "execution_count": 11,
     "metadata": {},
     "output_type": "execute_result"
    }
   ],
   "source": [
    "5*3+2"
   ]
  },
  {
   "cell_type": "code",
   "execution_count": 13,
   "id": "09c4be82-eb2c-4ef8-9fbf-595d9e824ec9",
   "metadata": {},
   "outputs": [
    {
     "data": {
      "text/plain": [
       "25"
      ]
     },
     "execution_count": 13,
     "metadata": {},
     "output_type": "execute_result"
    }
   ],
   "source": [
    "5**2"
   ]
  },
  {
   "cell_type": "code",
   "execution_count": 15,
   "id": "b6b7e75e-42c1-4ecc-81fc-3a77388a32c4",
   "metadata": {},
   "outputs": [
    {
     "data": {
      "text/plain": [
       "32"
      ]
     },
     "execution_count": 15,
     "metadata": {},
     "output_type": "execute_result"
    }
   ],
   "source": [
    "2**5"
   ]
  },
  {
   "cell_type": "code",
   "execution_count": 17,
   "id": "29c8a72b-b985-4e61-88a1-42221638d2e9",
   "metadata": {},
   "outputs": [
    {
     "data": {
      "text/plain": [
       "270"
      ]
     },
     "execution_count": 17,
     "metadata": {},
     "output_type": "execute_result"
    }
   ],
   "source": [
    "width=54\n",
    "height=9-4\n",
    "width*height"
   ]
  },
  {
   "cell_type": "code",
   "execution_count": 19,
   "id": "e59d1b4f-f57d-464e-a5c4-f7d850d7ef4e",
   "metadata": {},
   "outputs": [
    {
     "data": {
      "text/plain": [
       "12.8"
      ]
     },
     "execution_count": 19,
     "metadata": {},
     "output_type": "execute_result"
    }
   ],
   "source": [
    "4*3.45-1"
   ]
  },
  {
   "cell_type": "code",
   "execution_count": 33,
   "id": "f8fc11a2-d1a6-49ff-b346-49b0fef3e58b",
   "metadata": {},
   "outputs": [
    {
     "data": {
      "text/plain": [
       "18.83125"
      ]
     },
     "execution_count": 33,
     "metadata": {},
     "output_type": "execute_result"
    }
   ],
   "source": [
    "tax=12.5/100\n",
    "price=150.65\n",
    "price*tax\n"
   ]
  },
  {
   "cell_type": "code",
   "execution_count": 39,
   "id": "e729ab1d-7542-47ba-892a-a0ad84906163",
   "metadata": {},
   "outputs": [
    {
     "ename": "TypeError",
     "evalue": "unsupported operand type(s) for +: 'float' and 'str'",
     "output_type": "error",
     "traceback": [
      "\u001b[1;31m---------------------------------------------------------------------------\u001b[0m",
      "\u001b[1;31mTypeError\u001b[0m                                 Traceback (most recent call last)",
      "Cell \u001b[1;32mIn[39], line 1\u001b[0m\n\u001b[1;32m----> 1\u001b[0m \u001b[38;5;241m150.65\u001b[39m \u001b[38;5;241m+\u001b[39m _\n",
      "\u001b[1;31mTypeError\u001b[0m: unsupported operand type(s) for +: 'float' and 'str'"
     ]
    }
   ],
   "source": [
    "150.65 + _"
   ]
  },
  {
   "cell_type": "code",
   "execution_count": 29,
   "id": "b0967be7-c11e-495b-b91b-b211901dd4f3",
   "metadata": {},
   "outputs": [
    {
     "ename": "TypeError",
     "evalue": "type str doesn't define __round__ method",
     "output_type": "error",
     "traceback": [
      "\u001b[1;31m---------------------------------------------------------------------------\u001b[0m",
      "\u001b[1;31mTypeError\u001b[0m                                 Traceback (most recent call last)",
      "Cell \u001b[1;32mIn[29], line 1\u001b[0m\n\u001b[1;32m----> 1\u001b[0m \u001b[38;5;28mround\u001b[39m(_,\u001b[38;5;241m2\u001b[39m)\n",
      "\u001b[1;31mTypeError\u001b[0m: type str doesn't define __round__ method"
     ]
    }
   ],
   "source": [
    "round(_,2)"
   ]
  },
  {
   "cell_type": "code",
   "execution_count": 41,
   "id": "f80c745f-bd8e-4781-b059-d375da7e423b",
   "metadata": {},
   "outputs": [
    {
     "data": {
      "text/plain": [
       "'spam workload'"
      ]
     },
     "execution_count": 41,
     "metadata": {},
     "output_type": "execute_result"
    }
   ],
   "source": [
    "'spam workload'"
   ]
  },
  {
   "cell_type": "code",
   "execution_count": 43,
   "id": "dee404c4-9ad4-45e9-800f-b3409bb22368",
   "metadata": {},
   "outputs": [
    {
     "data": {
      "text/plain": [
       "'Paris has its own beauty.'"
      ]
     },
     "execution_count": 43,
     "metadata": {},
     "output_type": "execute_result"
    }
   ],
   "source": [
    "\"Paris has its own beauty.\""
   ]
  },
  {
   "cell_type": "code",
   "execution_count": 45,
   "id": "3533d39b-ea7a-4f92-988b-4f82867f414d",
   "metadata": {},
   "outputs": [
    {
     "data": {
      "text/plain": [
       "'1999'"
      ]
     },
     "execution_count": 45,
     "metadata": {},
     "output_type": "execute_result"
    }
   ],
   "source": [
    "\"1999\""
   ]
  },
  {
   "cell_type": "code",
   "execution_count": 49,
   "id": "8a183c64-c56e-4012-bdd2-935716023c2e",
   "metadata": {},
   "outputs": [
    {
     "data": {
      "text/plain": [
       "\"doesn't\""
      ]
     },
     "execution_count": 49,
     "metadata": {},
     "output_type": "execute_result"
    }
   ],
   "source": [
    "'doesn\\'t'"
   ]
  },
  {
   "cell_type": "code",
   "execution_count": 51,
   "id": "256d9397-1c12-4165-9131-6440809fa93a",
   "metadata": {},
   "outputs": [
    {
     "data": {
      "text/plain": [
       "\"doesn't\""
      ]
     },
     "execution_count": 51,
     "metadata": {},
     "output_type": "execute_result"
    }
   ],
   "source": [
    "\"doesn't\""
   ]
  },
  {
   "cell_type": "code",
   "execution_count": 53,
   "id": "27b88b1f-637c-47d6-bef7-1596859980c3",
   "metadata": {},
   "outputs": [
    {
     "data": {
      "text/plain": [
       "'\"Yes\",They said'"
      ]
     },
     "execution_count": 53,
     "metadata": {},
     "output_type": "execute_result"
    }
   ],
   "source": [
    "'\"Yes\",They said'"
   ]
  },
  {
   "cell_type": "code",
   "execution_count": 59,
   "id": "4a20cb49-5c25-4ceb-8f9f-9d1bb5465809",
   "metadata": {},
   "outputs": [
    {
     "ename": "SyntaxError",
     "evalue": "unexpected character after line continuation character (3641921692.py, line 1)",
     "output_type": "error",
     "traceback": [
      "\u001b[1;36m  Cell \u001b[1;32mIn[59], line 1\u001b[1;36m\u001b[0m\n\u001b[1;33m    \"\\\"Yes\"\\,they said\"\u001b[0m\n\u001b[1;37m            ^\u001b[0m\n\u001b[1;31mSyntaxError\u001b[0m\u001b[1;31m:\u001b[0m unexpected character after line continuation character\n"
     ]
    }
   ],
   "source": [
    "\"\\\"Yes\"\\,they said\""
   ]
  },
  {
   "cell_type": "code",
   "execution_count": 57,
   "id": "00dd7d3e-f51e-43c0-bff3-e5f0ae95396f",
   "metadata": {},
   "outputs": [
    {
     "data": {
      "text/plain": [
       "'\"Yes,\"they said'"
      ]
     },
     "execution_count": 57,
     "metadata": {},
     "output_type": "execute_result"
    }
   ],
   "source": [
    "\"\\\"Yes,\\\"they said\""
   ]
  },
  {
   "cell_type": "code",
   "execution_count": 61,
   "id": "f0638d03-7eb2-404e-9c04-bc34d302b5eb",
   "metadata": {},
   "outputs": [
    {
     "ename": "SyntaxError",
     "evalue": "unexpected character after line continuation character (3627583065.py, line 1)",
     "output_type": "error",
     "traceback": [
      "\u001b[1;36m  Cell \u001b[1;32mIn[61], line 1\u001b[1;36m\u001b[0m\n\u001b[1;33m    '\"Isn'\\t,\"they said'\u001b[0m\n\u001b[1;37m           ^\u001b[0m\n\u001b[1;31mSyntaxError\u001b[0m\u001b[1;31m:\u001b[0m unexpected character after line continuation character\n"
     ]
    }
   ],
   "source": [
    "'\"Isn'\\t,\"they said'"
   ]
  },
  {
   "cell_type": "code",
   "execution_count": 69,
   "id": "88857e21-3cbd-476c-8247-f36242985077",
   "metadata": {},
   "outputs": [
    {
     "ename": "SyntaxError",
     "evalue": "unexpected character after line continuation character (2431279441.py, line 1)",
     "output_type": "error",
     "traceback": [
      "\u001b[1;36m  Cell \u001b[1;32mIn[69], line 1\u001b[1;36m\u001b[0m\n\u001b[1;33m    '\"Isn'\\t\",they said'\u001b[0m\n\u001b[1;37m           ^\u001b[0m\n\u001b[1;31mSyntaxError\u001b[0m\u001b[1;31m:\u001b[0m unexpected character after line continuation character\n"
     ]
    }
   ],
   "source": [
    "'\"Isn'\\t\",they said'"
   ]
  },
  {
   "cell_type": "code",
   "execution_count": 81,
   "id": "046f0b19-c3c9-4255-8f2e-0c98a0005302",
   "metadata": {},
   "outputs": [
    {
     "data": {
      "text/plain": [
       "'\"Isn\\'t,\"they said'"
      ]
     },
     "execution_count": 81,
     "metadata": {},
     "output_type": "execute_result"
    }
   ],
   "source": [
    "'\"Isn\\'t,\\\"they said'"
   ]
  },
  {
   "cell_type": "code",
   "execution_count": 87,
   "id": "ca25d688-ee16-42d8-9b91-086cf3327854",
   "metadata": {},
   "outputs": [
    {
     "name": "stdout",
     "output_type": "stream",
     "text": [
      "First Line.\n",
      "Second Line.\n"
     ]
    }
   ],
   "source": [
    "v=\"First Line.\\nSecond Line.\"\n",
    "print(v)"
   ]
  },
  {
   "cell_type": "code",
   "execution_count": 89,
   "id": "34e6db5e-564d-43d0-ab01-ccae1d2cc261",
   "metadata": {},
   "outputs": [
    {
     "name": "stdout",
     "output_type": "stream",
     "text": [
      "C:\\same\n",
      "ame\n"
     ]
    },
    {
     "name": "stderr",
     "output_type": "stream",
     "text": [
      "<>:1: SyntaxWarning: invalid escape sequence '\\s'\n",
      "<>:1: SyntaxWarning: invalid escape sequence '\\s'\n",
      "C:\\Users\\HP\\AppData\\Local\\Temp\\ipykernel_15796\\4223881046.py:1: SyntaxWarning: invalid escape sequence '\\s'\n",
      "  print(\"C:\\same\\name\")\n"
     ]
    }
   ],
   "source": [
    "print(\"C:\\same\\name\")"
   ]
  },
  {
   "cell_type": "code",
   "execution_count": 91,
   "id": "2b261451-5755-4ac8-9913-3ce6fdfd6990",
   "metadata": {},
   "outputs": [
    {
     "name": "stdout",
     "output_type": "stream",
     "text": [
      "C:\\user\\name\n"
     ]
    }
   ],
   "source": [
    "print(r\"C:\\user\\name\") #to ignore the \\n we use r which uses as raw string."
   ]
  },
  {
   "cell_type": "code",
   "execution_count": 93,
   "id": "bf6105a8-0d6d-46c0-b102-3e3a01285fbb",
   "metadata": {},
   "outputs": [
    {
     "name": "stdout",
     "output_type": "stream",
     "text": [
      "how are you \n",
      "\n",
      "            how is your day going on? \n",
      "\n",
      "            whats your plan for your weekend?\n"
     ]
    }
   ],
   "source": [
    "print(\"\"\"how are you \\n\n",
    "            how is your day going on? \\n\n",
    "            whats your plan for your weekend?\"\"\")"
   ]
  },
  {
   "cell_type": "code",
   "execution_count": 97,
   "id": "d4ab5b93-c196-4fa5-862b-b2403f88fb83",
   "metadata": {},
   "outputs": [
    {
     "data": {
      "text/plain": [
       "'RamRamRamSita'"
      ]
     },
     "execution_count": 97,
     "metadata": {},
     "output_type": "execute_result"
    }
   ],
   "source": [
    "3*\"Ram\"+'Sita'"
   ]
  },
  {
   "cell_type": "code",
   "execution_count": 99,
   "id": "9a15b759-207e-4d24-b981-f04146fc679a",
   "metadata": {},
   "outputs": [
    {
     "data": {
      "text/plain": [
       "'Python'"
      ]
     },
     "execution_count": 99,
     "metadata": {},
     "output_type": "execute_result"
    }
   ],
   "source": [
    "'Py' 'thon'"
   ]
  },
  {
   "cell_type": "code",
   "execution_count": 103,
   "id": "4d09ecd7-5455-4ee8-b9f0-cd24e882fafd",
   "metadata": {},
   "outputs": [
    {
     "name": "stdout",
     "output_type": "stream",
     "text": [
      "how are you?how is Ram?\n"
     ]
    }
   ],
   "source": [
    "text=('how are you?'\n",
    "'how is Ram?')\n",
    "print(text)"
   ]
  },
  {
   "cell_type": "code",
   "execution_count": 105,
   "id": "ed94584a-c550-4e74-ae87-09d42b960be7",
   "metadata": {},
   "outputs": [
    {
     "data": {
      "text/plain": [
       "'RamSita'"
      ]
     },
     "execution_count": 105,
     "metadata": {},
     "output_type": "execute_result"
    }
   ],
   "source": [
    "prefix='Ram'\n",
    "prefix+'Sita'"
   ]
  },
  {
   "cell_type": "code",
   "execution_count": 113,
   "id": "c6018cfa-cac9-493e-86af-ab49f3d2e55f",
   "metadata": {},
   "outputs": [
    {
     "data": {
      "text/plain": [
       "'r'"
      ]
     },
     "execution_count": 113,
     "metadata": {},
     "output_type": "execute_result"
    }
   ],
   "source": [
    "word=\"Eternal\"\n",
    "word[3]"
   ]
  },
  {
   "cell_type": "code",
   "execution_count": 115,
   "id": "cc87c3d1-1dbb-43c1-bd76-6dc115717cd4",
   "metadata": {},
   "outputs": [
    {
     "data": {
      "text/plain": [
       "'l'"
      ]
     },
     "execution_count": 115,
     "metadata": {},
     "output_type": "execute_result"
    }
   ],
   "source": [
    "word[-1] #to print the last character."
   ]
  },
  {
   "cell_type": "code",
   "execution_count": 117,
   "id": "0a7b857d-8b19-43eb-a0a6-a388ad373807",
   "metadata": {},
   "outputs": [
    {
     "data": {
      "text/plain": [
       "'Ete'"
      ]
     },
     "execution_count": 117,
     "metadata": {},
     "output_type": "execute_result"
    }
   ],
   "source": [
    "word[0:3] #print the first 3 character excluding others."
   ]
  },
  {
   "cell_type": "code",
   "execution_count": 119,
   "id": "75efa2ea-978a-4965-805d-b02ae155f1fb",
   "metadata": {},
   "outputs": [
    {
     "data": {
      "text/plain": [
       "'rnal'"
      ]
     },
     "execution_count": 119,
     "metadata": {},
     "output_type": "execute_result"
    }
   ],
   "source": [
    "word[3:] #print the last remaining charcters exluding the first 3."
   ]
  },
  {
   "cell_type": "code",
   "execution_count": 121,
   "id": "48b2d2bc-cf53-4981-9698-967ce92badfd",
   "metadata": {},
   "outputs": [
    {
     "data": {
      "text/plain": [
       "'al'"
      ]
     },
     "execution_count": 121,
     "metadata": {},
     "output_type": "execute_result"
    }
   ],
   "source": [
    "word[-2:] #print the last 2 character of the string."
   ]
  },
  {
   "cell_type": "code",
   "execution_count": 123,
   "id": "c6e82407-2c48-4647-8e69-0e528dbc3809",
   "metadata": {},
   "outputs": [
    {
     "data": {
      "text/plain": [
       "'Eeternal'"
      ]
     },
     "execution_count": 123,
     "metadata": {},
     "output_type": "execute_result"
    }
   ],
   "source": [
    "'Ee'+word[1:]"
   ]
  },
  {
   "cell_type": "code",
   "execution_count": 125,
   "id": "31a84e17-98f0-4b6b-957d-54ccee76507b",
   "metadata": {},
   "outputs": [
    {
     "data": {
      "text/plain": [
       "'Etll'"
      ]
     },
     "execution_count": 125,
     "metadata": {},
     "output_type": "execute_result"
    }
   ],
   "source": [
    "word[:2]+'ll'"
   ]
  },
  {
   "cell_type": "code",
   "execution_count": 127,
   "id": "e13b76e6-0c60-4a71-8c94-35bbb2177409",
   "metadata": {},
   "outputs": [
    {
     "data": {
      "text/plain": [
       "7"
      ]
     },
     "execution_count": 127,
     "metadata": {},
     "output_type": "execute_result"
    }
   ],
   "source": [
    "len(word)"
   ]
  },
  {
   "cell_type": "code",
   "execution_count": 131,
   "id": "ab36639b-cddb-4ce1-b359-0b4122ac41f9",
   "metadata": {},
   "outputs": [
    {
     "data": {
      "text/plain": [
       "'Eternal'"
      ]
     },
     "execution_count": 131,
     "metadata": {},
     "output_type": "execute_result"
    }
   ],
   "source": [
    "str.format(word)"
   ]
  },
  {
   "cell_type": "code",
   "execution_count": null,
   "id": "68948582-19a9-4f58-b63c-d084e6e23746",
   "metadata": {},
   "outputs": [],
   "source": [
    "#doubts to be asked tommorow \n",
    "#\n"
   ]
  }
 ],
 "metadata": {
  "kernelspec": {
   "display_name": "Python [conda env:base] *",
   "language": "python",
   "name": "conda-base-py"
  },
  "language_info": {
   "codemirror_mode": {
    "name": "ipython",
    "version": 3
   },
   "file_extension": ".py",
   "mimetype": "text/x-python",
   "name": "python",
   "nbconvert_exporter": "python",
   "pygments_lexer": "ipython3",
   "version": "3.12.7"
  }
 },
 "nbformat": 4,
 "nbformat_minor": 5
}
