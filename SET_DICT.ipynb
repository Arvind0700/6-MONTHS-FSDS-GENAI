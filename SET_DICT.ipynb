{
  "nbformat": 4,
  "nbformat_minor": 0,
  "metadata": {
    "colab": {
      "provenance": []
    },
    "kernelspec": {
      "name": "python3",
      "display_name": "Python 3"
    },
    "language_info": {
      "name": "python"
    }
  },
  "cells": [
    {
      "cell_type": "code",
      "source": [
        "#SET UNION"
      ],
      "metadata": {
        "id": "fIT8lMlKL-_S"
      },
      "execution_count": 4,
      "outputs": []
    },
    {
      "cell_type": "code",
      "execution_count": 1,
      "metadata": {
        "id": "euj2y0bIK-nx"
      },
      "outputs": [],
      "source": [
        "A={1,2,3,4,5,6,7,8,9}\n",
        "B={4,5,6,7,8}\n",
        "C={8,9,10}"
      ]
    },
    {
      "cell_type": "code",
      "source": [
        "A|B"
      ],
      "metadata": {
        "colab": {
          "base_uri": "https://localhost:8080/"
        },
        "id": "5cS43tr7Lv77",
        "outputId": "fef94213-95f2-4586-fdfb-9d59b2a28f9a"
      },
      "execution_count": 2,
      "outputs": [
        {
          "output_type": "execute_result",
          "data": {
            "text/plain": [
              "{1, 2, 3, 4, 5, 6, 7, 8, 9}"
            ]
          },
          "metadata": {},
          "execution_count": 2
        }
      ]
    },
    {
      "cell_type": "code",
      "source": [
        "A.union(B,C)"
      ],
      "metadata": {
        "colab": {
          "base_uri": "https://localhost:8080/"
        },
        "id": "tzTe2wl7LyDO",
        "outputId": "c14d0710-022f-42b7-de53-788a711613f4"
      },
      "execution_count": 3,
      "outputs": [
        {
          "output_type": "execute_result",
          "data": {
            "text/plain": [
              "{1, 2, 3, 4, 5, 6, 7, 8, 9, 10}"
            ]
          },
          "metadata": {},
          "execution_count": 3
        }
      ]
    },
    {
      "cell_type": "code",
      "source": [
        "#INTERSECTION"
      ],
      "metadata": {
        "id": "pP1joelIL6mI"
      },
      "execution_count": 5,
      "outputs": []
    },
    {
      "cell_type": "code",
      "source": [
        "A&B"
      ],
      "metadata": {
        "colab": {
          "base_uri": "https://localhost:8080/"
        },
        "id": "q_o3DbZIMhLV",
        "outputId": "51a93f3e-fa5c-4c9c-bc3c-96c697fc3a19"
      },
      "execution_count": 8,
      "outputs": [
        {
          "output_type": "execute_result",
          "data": {
            "text/plain": [
              "{4, 5, 6, 7, 8}"
            ]
          },
          "metadata": {},
          "execution_count": 8
        }
      ]
    },
    {
      "cell_type": "code",
      "source": [
        "#DIFFERENCE"
      ],
      "metadata": {
        "id": "9Rw0R1tEMpEI"
      },
      "execution_count": 9,
      "outputs": []
    },
    {
      "cell_type": "code",
      "source": [
        "A-B"
      ],
      "metadata": {
        "colab": {
          "base_uri": "https://localhost:8080/"
        },
        "id": "MwYatTuVNYLR",
        "outputId": "c1baeca3-2935-47a7-d9e1-ed5fc7889061"
      },
      "execution_count": 10,
      "outputs": [
        {
          "output_type": "execute_result",
          "data": {
            "text/plain": [
              "{1, 2, 3, 9}"
            ]
          },
          "metadata": {},
          "execution_count": 10
        }
      ]
    },
    {
      "cell_type": "code",
      "source": [
        "B.difference(C)"
      ],
      "metadata": {
        "colab": {
          "base_uri": "https://localhost:8080/"
        },
        "id": "rLuqrEF8NcDx",
        "outputId": "f078f5e4-26f0-466c-a4ec-e5d7a6c776c6"
      },
      "execution_count": 11,
      "outputs": [
        {
          "output_type": "execute_result",
          "data": {
            "text/plain": [
              "{4, 5, 6, 7}"
            ]
          },
          "metadata": {},
          "execution_count": 11
        }
      ]
    },
    {
      "cell_type": "code",
      "source": [
        "#SYMMETRIC DIFFERENCE"
      ],
      "metadata": {
        "id": "GYxcBBhSNkUQ"
      },
      "execution_count": 12,
      "outputs": []
    },
    {
      "cell_type": "code",
      "source": [
        "A.symmetric_difference(B)"
      ],
      "metadata": {
        "colab": {
          "base_uri": "https://localhost:8080/"
        },
        "id": "gSWUhX1YNrW6",
        "outputId": "f4ea1bd9-1bfd-4ab2-a9e5-e2c75e0dcf42"
      },
      "execution_count": 13,
      "outputs": [
        {
          "output_type": "execute_result",
          "data": {
            "text/plain": [
              "{1, 2, 3, 9}"
            ]
          },
          "metadata": {},
          "execution_count": 13
        }
      ]
    },
    {
      "cell_type": "code",
      "source": [
        "B^C"
      ],
      "metadata": {
        "colab": {
          "base_uri": "https://localhost:8080/"
        },
        "id": "DYqufUGoN2Vg",
        "outputId": "baf69e1f-e266-4d63-991d-70fb78c947ce"
      },
      "execution_count": 14,
      "outputs": [
        {
          "output_type": "execute_result",
          "data": {
            "text/plain": [
              "{4, 5, 6, 7, 9, 10}"
            ]
          },
          "metadata": {},
          "execution_count": 14
        }
      ]
    },
    {
      "cell_type": "markdown",
      "source": [
        "SYMMETRIC DIFFERENCE UPDATE"
      ],
      "metadata": {
        "id": "eBqurZd5ORi6"
      }
    },
    {
      "cell_type": "code",
      "source": [
        "A.symmetric_difference_update(B)"
      ],
      "metadata": {
        "id": "MgK_riZWN707"
      },
      "execution_count": 15,
      "outputs": []
    },
    {
      "cell_type": "code",
      "source": [
        "A"
      ],
      "metadata": {
        "colab": {
          "base_uri": "https://localhost:8080/"
        },
        "id": "AM1UeF30OIgn",
        "outputId": "4b4af835-c9a9-4d8a-8063-a4183e4a01b1"
      },
      "execution_count": 16,
      "outputs": [
        {
          "output_type": "execute_result",
          "data": {
            "text/plain": [
              "{1, 2, 3, 9}"
            ]
          },
          "metadata": {},
          "execution_count": 16
        }
      ]
    },
    {
      "cell_type": "markdown",
      "source": [
        "SUBSET,SUPERSET&DISJOINT"
      ],
      "metadata": {
        "id": "37JmSXg9Oavz"
      }
    },
    {
      "cell_type": "code",
      "source": [
        "a={1,2,3,4,5,6,7,8,9}\n",
        "b={3,4,5,6,7}\n",
        "c={25,35,45,55}"
      ],
      "metadata": {
        "id": "lcTvghYqOKMt"
      },
      "execution_count": 17,
      "outputs": []
    },
    {
      "cell_type": "code",
      "source": [
        "b.issubset(a)"
      ],
      "metadata": {
        "colab": {
          "base_uri": "https://localhost:8080/"
        },
        "id": "Ql73_9GTOy_9",
        "outputId": "041328cd-8647-43dd-99e2-21d50e615423"
      },
      "execution_count": 18,
      "outputs": [
        {
          "output_type": "execute_result",
          "data": {
            "text/plain": [
              "True"
            ]
          },
          "metadata": {},
          "execution_count": 18
        }
      ]
    },
    {
      "cell_type": "code",
      "source": [
        "a.issuperset(b)"
      ],
      "metadata": {
        "colab": {
          "base_uri": "https://localhost:8080/"
        },
        "id": "gi_1bjTfO35g",
        "outputId": "f68db323-ed2f-4d62-cd3c-766c10788d20"
      },
      "execution_count": 19,
      "outputs": [
        {
          "output_type": "execute_result",
          "data": {
            "text/plain": [
              "True"
            ]
          },
          "metadata": {},
          "execution_count": 19
        }
      ]
    },
    {
      "cell_type": "code",
      "source": [
        "a.isdisjoint(c)"
      ],
      "metadata": {
        "colab": {
          "base_uri": "https://localhost:8080/"
        },
        "id": "fxWJofJ3O8JY",
        "outputId": "ca046cc4-e4a7-445c-fb7f-a4d36b1d023d"
      },
      "execution_count": 20,
      "outputs": [
        {
          "output_type": "execute_result",
          "data": {
            "text/plain": [
              "True"
            ]
          },
          "metadata": {},
          "execution_count": 20
        }
      ]
    },
    {
      "cell_type": "code",
      "source": [
        "a"
      ],
      "metadata": {
        "colab": {
          "base_uri": "https://localhost:8080/"
        },
        "id": "eBnNywezPFDl",
        "outputId": "d8d2cebc-c0ad-4c73-f9d2-3bd0ca20875d"
      },
      "execution_count": 21,
      "outputs": [
        {
          "output_type": "execute_result",
          "data": {
            "text/plain": [
              "{1, 2, 3, 4, 5, 6, 7, 8, 9}"
            ]
          },
          "metadata": {},
          "execution_count": 21
        }
      ]
    },
    {
      "cell_type": "code",
      "source": [
        "sum(a)"
      ],
      "metadata": {
        "colab": {
          "base_uri": "https://localhost:8080/"
        },
        "id": "GYWpegAnPJji",
        "outputId": "e3692120-d483-40e8-b517-5cc19b721f34"
      },
      "execution_count": 22,
      "outputs": [
        {
          "output_type": "execute_result",
          "data": {
            "text/plain": [
              "45"
            ]
          },
          "metadata": {},
          "execution_count": 22
        }
      ]
    },
    {
      "cell_type": "code",
      "source": [
        "max(c)"
      ],
      "metadata": {
        "colab": {
          "base_uri": "https://localhost:8080/"
        },
        "id": "Qy0cyvusPODQ",
        "outputId": "33d06c38-8de5-4074-8a01-b2236dc4dfe5"
      },
      "execution_count": 23,
      "outputs": [
        {
          "output_type": "execute_result",
          "data": {
            "text/plain": [
              "55"
            ]
          },
          "metadata": {},
          "execution_count": 23
        }
      ]
    },
    {
      "cell_type": "code",
      "source": [
        "len(b)"
      ],
      "metadata": {
        "colab": {
          "base_uri": "https://localhost:8080/"
        },
        "id": "nzXLFU6_PQ5r",
        "outputId": "849fdc19-5b6b-4df7-eacc-8f7465732c9f"
      },
      "execution_count": 24,
      "outputs": [
        {
          "output_type": "execute_result",
          "data": {
            "text/plain": [
              "5"
            ]
          },
          "metadata": {},
          "execution_count": 24
        }
      ]
    },
    {
      "cell_type": "code",
      "source": [
        "min(a)"
      ],
      "metadata": {
        "colab": {
          "base_uri": "https://localhost:8080/"
        },
        "id": "EoLCWoqdPTA7",
        "outputId": "8f18eb07-35c6-465d-c2e2-aa185ae7f606"
      },
      "execution_count": 25,
      "outputs": [
        {
          "output_type": "execute_result",
          "data": {
            "text/plain": [
              "1"
            ]
          },
          "metadata": {},
          "execution_count": 25
        }
      ]
    },
    {
      "cell_type": "code",
      "source": [
        "list(enumerate(b))"
      ],
      "metadata": {
        "colab": {
          "base_uri": "https://localhost:8080/"
        },
        "id": "_VaxVUvkPWKi",
        "outputId": "dc56269c-9ef8-443d-96a5-0b40861f7cb7"
      },
      "execution_count": 26,
      "outputs": [
        {
          "output_type": "execute_result",
          "data": {
            "text/plain": [
              "[(0, 3), (1, 4), (2, 5), (3, 6), (4, 7)]"
            ]
          },
          "metadata": {},
          "execution_count": 26
        }
      ]
    },
    {
      "cell_type": "code",
      "source": [
        "d=sorted(b,reverse=True)"
      ],
      "metadata": {
        "id": "zrCi_XZkPcPg"
      },
      "execution_count": 27,
      "outputs": []
    },
    {
      "cell_type": "code",
      "source": [
        "d"
      ],
      "metadata": {
        "colab": {
          "base_uri": "https://localhost:8080/"
        },
        "id": "YcMza7wwPmz2",
        "outputId": "f1069d98-5d17-4bac-f16e-93bf805ff249"
      },
      "execution_count": 28,
      "outputs": [
        {
          "output_type": "execute_result",
          "data": {
            "text/plain": [
              "[7, 6, 5, 4, 3]"
            ]
          },
          "metadata": {},
          "execution_count": 28
        }
      ]
    },
    {
      "cell_type": "code",
      "source": [
        "sorted(d)"
      ],
      "metadata": {
        "colab": {
          "base_uri": "https://localhost:8080/"
        },
        "id": "0toTY598PnUc",
        "outputId": "e64c3ec9-22f5-4050-a9c4-cc534a65abc6"
      },
      "execution_count": 29,
      "outputs": [
        {
          "output_type": "execute_result",
          "data": {
            "text/plain": [
              "[3, 4, 5, 6, 7]"
            ]
          },
          "metadata": {},
          "execution_count": 29
        }
      ]
    },
    {
      "cell_type": "markdown",
      "source": [
        "*Dictionary*"
      ],
      "metadata": {
        "id": "94axe9_QQiNC"
      }
    },
    {
      "cell_type": "code",
      "source": [
        "dictionary=dict()\n",
        "dictionary"
      ],
      "metadata": {
        "colab": {
          "base_uri": "https://localhost:8080/"
        },
        "id": "FVyQPQQ0QvfL",
        "outputId": "e3d59ab0-1cc6-40d8-e152-bc0f767ec13d"
      },
      "execution_count": 30,
      "outputs": [
        {
          "output_type": "execute_result",
          "data": {
            "text/plain": [
              "{}"
            ]
          },
          "metadata": {},
          "execution_count": 30
        }
      ]
    },
    {
      "cell_type": "code",
      "source": [
        "mydict={'A':'one','B':'two','C':'three','D':'four'}"
      ],
      "metadata": {
        "id": "ugEsD06QROYy"
      },
      "execution_count": 31,
      "outputs": []
    },
    {
      "cell_type": "code",
      "source": [
        "mydict"
      ],
      "metadata": {
        "colab": {
          "base_uri": "https://localhost:8080/"
        },
        "id": "TfWWm7OFRqJI",
        "outputId": "f1342b8c-8209-4b27-f619-992e1b7ecfa5"
      },
      "execution_count": 32,
      "outputs": [
        {
          "output_type": "execute_result",
          "data": {
            "text/plain": [
              "{'A': 'one', 'B': 'two', 'C': 'three', 'D': 'four'}"
            ]
          },
          "metadata": {},
          "execution_count": 32
        }
      ]
    },
    {
      "cell_type": "code",
      "source": [
        "mydict1=dict({1:'one',2:'two',3:'three',4:'four'})\n",
        "mydict1"
      ],
      "metadata": {
        "colab": {
          "base_uri": "https://localhost:8080/"
        },
        "id": "n3UKz3NVRuE-",
        "outputId": "0f36820e-940e-4ee0-9089-05b43f245f64"
      },
      "execution_count": 33,
      "outputs": [
        {
          "output_type": "execute_result",
          "data": {
            "text/plain": [
              "{1: 'one', 2: 'two', 3: 'three', 4: 'four'}"
            ]
          },
          "metadata": {},
          "execution_count": 33
        }
      ]
    },
    {
      "cell_type": "code",
      "source": [
        "mydict1.keys()"
      ],
      "metadata": {
        "colab": {
          "base_uri": "https://localhost:8080/"
        },
        "id": "xrAKDWBrR-oN",
        "outputId": "3595ebd7-4d4f-4527-f133-d8453a2888dc"
      },
      "execution_count": 34,
      "outputs": [
        {
          "output_type": "execute_result",
          "data": {
            "text/plain": [
              "dict_keys([1, 2, 3, 4])"
            ]
          },
          "metadata": {},
          "execution_count": 34
        }
      ]
    },
    {
      "cell_type": "code",
      "source": [
        "mydict1.values()"
      ],
      "metadata": {
        "colab": {
          "base_uri": "https://localhost:8080/"
        },
        "id": "WUzYzDmRSIRf",
        "outputId": "7a142903-8d79-4e18-d65b-fabda50d45f1"
      },
      "execution_count": 35,
      "outputs": [
        {
          "output_type": "execute_result",
          "data": {
            "text/plain": [
              "dict_values(['one', 'two', 'three', 'four'])"
            ]
          },
          "metadata": {},
          "execution_count": 35
        }
      ]
    },
    {
      "cell_type": "code",
      "source": [
        "mydict1.items()"
      ],
      "metadata": {
        "colab": {
          "base_uri": "https://localhost:8080/"
        },
        "id": "_n5EOCW2SMqB",
        "outputId": "1a638cdd-fec2-490d-e35a-d7e9996851ab"
      },
      "execution_count": 36,
      "outputs": [
        {
          "output_type": "execute_result",
          "data": {
            "text/plain": [
              "dict_items([(1, 'one'), (2, 'two'), (3, 'three'), (4, 'four')])"
            ]
          },
          "metadata": {},
          "execution_count": 36
        }
      ]
    },
    {
      "cell_type": "code",
      "source": [
        "mydict2={1:'one',2:'two','A':['Ram','Shyam','Hari'],'B':['rahul','alok','chiru']}\n",
        "mydict2"
      ],
      "metadata": {
        "colab": {
          "base_uri": "https://localhost:8080/"
        },
        "id": "iyEDXiRbSRlD",
        "outputId": "6c1c3e46-6c85-419a-f221-7a19cdb362aa"
      },
      "execution_count": 37,
      "outputs": [
        {
          "output_type": "execute_result",
          "data": {
            "text/plain": [
              "{1: 'one',\n",
              " 2: 'two',\n",
              " 'A': ['Ram', 'Shyam', 'Hari'],\n",
              " 'B': ['rahul', 'alok', 'chiru']}"
            ]
          },
          "metadata": {},
          "execution_count": 37
        }
      ]
    },
    {
      "cell_type": "code",
      "source": [
        "keys={'a','b','c','d'}\n",
        "mydict3=dict.fromkeys(keys)\n",
        "mydict3"
      ],
      "metadata": {
        "colab": {
          "base_uri": "https://localhost:8080/"
        },
        "id": "VKHJen23T1Ti",
        "outputId": "356db99c-2dc4-4660-e9e5-606e41445ebb"
      },
      "execution_count": 38,
      "outputs": [
        {
          "output_type": "execute_result",
          "data": {
            "text/plain": [
              "{'c': None, 'b': None, 'a': None, 'd': None}"
            ]
          },
          "metadata": {},
          "execution_count": 38
        }
      ]
    },
    {
      "cell_type": "code",
      "source": [
        "keys={'a','b','c','d'}\n",
        "value=44\n",
        "mydict4=dict.fromkeys(keys,value)\n",
        "mydict4"
      ],
      "metadata": {
        "colab": {
          "base_uri": "https://localhost:8080/"
        },
        "id": "dv1CD4zKa492",
        "outputId": "6d12e8ed-8979-4d2e-c4fd-f4a5a8a7816d"
      },
      "execution_count": 39,
      "outputs": [
        {
          "output_type": "execute_result",
          "data": {
            "text/plain": [
              "{'c': 44, 'b': 44, 'a': 44, 'd': 44}"
            ]
          },
          "metadata": {},
          "execution_count": 39
        }
      ]
    },
    {
      "cell_type": "code",
      "source": [
        "keys={'a','b','c','d'}\n",
        "value=[44,55,66]\n",
        "mydict5=dict.fromkeys(keys,value)\n",
        "mydict5"
      ],
      "metadata": {
        "colab": {
          "base_uri": "https://localhost:8080/"
        },
        "id": "BO8hfVckbM8S",
        "outputId": "74a04d55-8480-42f8-bb5f-aa6a0a3e5ff9"
      },
      "execution_count": 40,
      "outputs": [
        {
          "output_type": "execute_result",
          "data": {
            "text/plain": [
              "{'c': [44, 55, 66], 'b': [44, 55, 66], 'a': [44, 55, 66], 'd': [44, 55, 66]}"
            ]
          },
          "metadata": {},
          "execution_count": 40
        }
      ]
    },
    {
      "cell_type": "code",
      "source": [
        "value.append(83)\n",
        "mydict5"
      ],
      "metadata": {
        "colab": {
          "base_uri": "https://localhost:8080/"
        },
        "id": "np8wZt_7r4fS",
        "outputId": "240e8626-8143-434d-a4a9-e72755a31b1c"
      },
      "execution_count": 42,
      "outputs": [
        {
          "output_type": "execute_result",
          "data": {
            "text/plain": [
              "{'c': [44, 55, 66, 83, 83],\n",
              " 'b': [44, 55, 66, 83, 83],\n",
              " 'a': [44, 55, 66, 83, 83],\n",
              " 'd': [44, 55, 66, 83, 83]}"
            ]
          },
          "metadata": {},
          "execution_count": 42
        }
      ]
    },
    {
      "cell_type": "code",
      "source": [
        "mydict2[1]"
      ],
      "metadata": {
        "colab": {
          "base_uri": "https://localhost:8080/",
          "height": 36
        },
        "id": "jpw5-cE4sB8s",
        "outputId": "13d6cd95-be97-4646-ec9c-f26eb1ce8917"
      },
      "execution_count": 43,
      "outputs": [
        {
          "output_type": "execute_result",
          "data": {
            "text/plain": [
              "'one'"
            ],
            "application/vnd.google.colaboratory.intrinsic+json": {
              "type": "string"
            }
          },
          "metadata": {},
          "execution_count": 43
        }
      ]
    },
    {
      "cell_type": "code",
      "source": [
        "mydict.get(1)"
      ],
      "metadata": {
        "id": "epznJdK1sPjX"
      },
      "execution_count": 46,
      "outputs": []
    },
    {
      "cell_type": "code",
      "source": [
        "mydict4['c']"
      ],
      "metadata": {
        "colab": {
          "base_uri": "https://localhost:8080/"
        },
        "id": "mygFjWyOsZ70",
        "outputId": "902a673e-d1ae-405c-e5cf-ade3431b2fb1"
      },
      "execution_count": 47,
      "outputs": [
        {
          "output_type": "execute_result",
          "data": {
            "text/plain": [
              "44"
            ]
          },
          "metadata": {},
          "execution_count": 47
        }
      ]
    },
    {
      "cell_type": "code",
      "source": [
        "mydict4.get('c')"
      ],
      "metadata": {
        "colab": {
          "base_uri": "https://localhost:8080/"
        },
        "id": "vW8GGnOSsxfL",
        "outputId": "e7c771bb-fd71-4d68-807b-f3e8eb89ec08"
      },
      "execution_count": 48,
      "outputs": [
        {
          "output_type": "execute_result",
          "data": {
            "text/plain": [
              "44"
            ]
          },
          "metadata": {},
          "execution_count": 48
        }
      ]
    },
    {
      "cell_type": "code",
      "source": [
        "mydict6={'Name':'Rahul','ID':76080,'Age':24,'Address':'Ameerpet'}\n",
        "mydict6"
      ],
      "metadata": {
        "colab": {
          "base_uri": "https://localhost:8080/"
        },
        "id": "3FfNnSJ0s2qa",
        "outputId": "8c4397bf-11f7-4abf-98ed-d382b62fce9a"
      },
      "execution_count": 50,
      "outputs": [
        {
          "output_type": "execute_result",
          "data": {
            "text/plain": [
              "{'Name': 'Rahul', 'ID': 76080, 'Age': 24, 'Address': 'Ameerpet'}"
            ]
          },
          "metadata": {},
          "execution_count": 50
        }
      ]
    },
    {
      "cell_type": "code",
      "source": [
        "mydict6['Age']=25\n",
        "mydict6"
      ],
      "metadata": {
        "colab": {
          "base_uri": "https://localhost:8080/"
        },
        "id": "zBRzez-vtlvI",
        "outputId": "257d7920-edd1-42ea-c042-d424260477c6"
      },
      "execution_count": 51,
      "outputs": [
        {
          "output_type": "execute_result",
          "data": {
            "text/plain": [
              "{'Name': 'Rahul', 'ID': 76080, 'Age': 25, 'Address': 'Ameerpet'}"
            ]
          },
          "metadata": {},
          "execution_count": 51
        }
      ]
    },
    {
      "cell_type": "code",
      "source": [
        "mydict7={'Address':'Rayagada'}\n",
        "mydict6.update(mydict7)\n",
        "mydict6"
      ],
      "metadata": {
        "colab": {
          "base_uri": "https://localhost:8080/"
        },
        "id": "zMQtx79lt2Q0",
        "outputId": "1c2159cd-7f53-4667-aaa9-1d128cf55e41"
      },
      "execution_count": 52,
      "outputs": [
        {
          "output_type": "execute_result",
          "data": {
            "text/plain": [
              "{'Name': 'Rahul', 'ID': 76080, 'Age': 25, 'Address': 'Rayagada'}"
            ]
          },
          "metadata": {},
          "execution_count": 52
        }
      ]
    },
    {
      "cell_type": "code",
      "source": [
        "mydict6['Job']='Data Scientist'\n",
        "mydict6"
      ],
      "metadata": {
        "colab": {
          "base_uri": "https://localhost:8080/"
        },
        "id": "qJx7xYyluiQP",
        "outputId": "4bcfbefa-cad2-4161-a8e2-4119e97724e5"
      },
      "execution_count": 53,
      "outputs": [
        {
          "output_type": "execute_result",
          "data": {
            "text/plain": [
              "{'Name': 'Rahul',\n",
              " 'ID': 76080,\n",
              " 'Age': 25,\n",
              " 'Address': 'Rayagada',\n",
              " 'Job': 'Data Scientist'}"
            ]
          },
          "metadata": {},
          "execution_count": 53
        }
      ]
    },
    {
      "cell_type": "code",
      "source": [
        "mydict6.pop('Address')\n",
        "mydict6"
      ],
      "metadata": {
        "colab": {
          "base_uri": "https://localhost:8080/"
        },
        "id": "uI8ovSjluwkH",
        "outputId": "59038d90-0496-4859-f769-3091c6872b9a"
      },
      "execution_count": 54,
      "outputs": [
        {
          "output_type": "execute_result",
          "data": {
            "text/plain": [
              "{'Name': 'Rahul', 'ID': 76080, 'Age': 25, 'Job': 'Data Scientist'}"
            ]
          },
          "metadata": {},
          "execution_count": 54
        }
      ]
    },
    {
      "cell_type": "code",
      "source": [
        "mydict6.popitem()"
      ],
      "metadata": {
        "colab": {
          "base_uri": "https://localhost:8080/"
        },
        "id": "NrerYRbau-Gt",
        "outputId": "9f68b844-53ed-437e-f077-14147879d970"
      },
      "execution_count": 55,
      "outputs": [
        {
          "output_type": "execute_result",
          "data": {
            "text/plain": [
              "('Job', 'Data Scientist')"
            ]
          },
          "metadata": {},
          "execution_count": 55
        }
      ]
    },
    {
      "cell_type": "code",
      "source": [
        "del[mydict6['ID']]\n",
        "mydict6"
      ],
      "metadata": {
        "colab": {
          "base_uri": "https://localhost:8080/"
        },
        "id": "ZSBud6XbvFAt",
        "outputId": "4f357783-8c77-4330-8b3d-41ead7ad4909"
      },
      "execution_count": 56,
      "outputs": [
        {
          "output_type": "execute_result",
          "data": {
            "text/plain": [
              "{'Name': 'Rahul', 'Age': 25}"
            ]
          },
          "metadata": {},
          "execution_count": 56
        }
      ]
    },
    {
      "cell_type": "code",
      "source": [
        "mydict6.clear()"
      ],
      "metadata": {
        "id": "Yl0UXZe6vPAz"
      },
      "execution_count": 57,
      "outputs": []
    },
    {
      "cell_type": "code",
      "source": [
        "mydict6={'Name':'Rahul','ID':76080,'Age':24,'Address':'Ameerpet'}\n",
        "mydict6"
      ],
      "metadata": {
        "colab": {
          "base_uri": "https://localhost:8080/"
        },
        "id": "H34ZvIZHvTy5",
        "outputId": "044e2620-fee2-4a4a-e8cb-14a5490ea84b"
      },
      "execution_count": 58,
      "outputs": [
        {
          "output_type": "execute_result",
          "data": {
            "text/plain": [
              "{'Name': 'Rahul', 'ID': 76080, 'Age': 24, 'Address': 'Ameerpet'}"
            ]
          },
          "metadata": {},
          "execution_count": 58
        }
      ]
    },
    {
      "cell_type": "code",
      "source": [
        "mydict8=mydict6"
      ],
      "metadata": {
        "id": "_9GXkM5cvg-v"
      },
      "execution_count": 59,
      "outputs": []
    },
    {
      "cell_type": "code",
      "source": [
        "id(mydict8),id(mydict6)"
      ],
      "metadata": {
        "colab": {
          "base_uri": "https://localhost:8080/"
        },
        "id": "A50lvc81vq16",
        "outputId": "1530346e-af1e-440f-8a33-a1f9b2dfb476"
      },
      "execution_count": 60,
      "outputs": [
        {
          "output_type": "execute_result",
          "data": {
            "text/plain": [
              "(132160044587776, 132160044587776)"
            ]
          },
          "metadata": {},
          "execution_count": 60
        }
      ]
    },
    {
      "cell_type": "code",
      "source": [
        "mydict9=mydict6.copy()"
      ],
      "metadata": {
        "id": "VuHcGa4dvxey"
      },
      "execution_count": 61,
      "outputs": []
    },
    {
      "cell_type": "code",
      "source": [
        "id(mydict9)"
      ],
      "metadata": {
        "colab": {
          "base_uri": "https://localhost:8080/"
        },
        "id": "p5IhKkSNv-Pq",
        "outputId": "4ce66aca-06ab-44e7-da16-f95a58b886e8"
      },
      "execution_count": 62,
      "outputs": [
        {
          "output_type": "execute_result",
          "data": {
            "text/plain": [
              "132160043258432"
            ]
          },
          "metadata": {},
          "execution_count": 62
        }
      ]
    },
    {
      "cell_type": "code",
      "source": [
        "mydict6['Address']='Puri'\n",
        "mydict6"
      ],
      "metadata": {
        "colab": {
          "base_uri": "https://localhost:8080/"
        },
        "id": "dYCmHCHdwDim",
        "outputId": "1ee1b291-59e8-4751-e58c-ff7cc87957c3"
      },
      "execution_count": 63,
      "outputs": [
        {
          "output_type": "execute_result",
          "data": {
            "text/plain": [
              "{'Name': 'Rahul', 'ID': 76080, 'Age': 24, 'Address': 'Puri'}"
            ]
          },
          "metadata": {},
          "execution_count": 63
        }
      ]
    },
    {
      "cell_type": "code",
      "source": [
        "mydict8"
      ],
      "metadata": {
        "colab": {
          "base_uri": "https://localhost:8080/"
        },
        "id": "phVQeVkfwRSS",
        "outputId": "4ee66695-9cbe-47aa-f8be-3aab33633978"
      },
      "execution_count": 64,
      "outputs": [
        {
          "output_type": "execute_result",
          "data": {
            "text/plain": [
              "{'Name': 'Rahul', 'ID': 76080, 'Age': 24, 'Address': 'Puri'}"
            ]
          },
          "metadata": {},
          "execution_count": 64
        }
      ]
    },
    {
      "cell_type": "code",
      "source": [
        "mydict9"
      ],
      "metadata": {
        "colab": {
          "base_uri": "https://localhost:8080/"
        },
        "id": "o_jR_vzhwYCL",
        "outputId": "113cb5d5-9ffc-4db8-f1e1-c15f089bbd8c"
      },
      "execution_count": 65,
      "outputs": [
        {
          "output_type": "execute_result",
          "data": {
            "text/plain": [
              "{'Name': 'Rahul', 'ID': 76080, 'Age': 24, 'Address': 'Ameerpet'}"
            ]
          },
          "metadata": {},
          "execution_count": 65
        }
      ]
    },
    {
      "cell_type": "code",
      "source": [
        "for i in mydict8:\n",
        "  print (i,':',mydict8[i])"
      ],
      "metadata": {
        "colab": {
          "base_uri": "https://localhost:8080/"
        },
        "id": "u7AAqyBpwaVC",
        "outputId": "179d8204-0e88-4388-fbf2-9b0ac5704796"
      },
      "execution_count": 67,
      "outputs": [
        {
          "output_type": "stream",
          "name": "stdout",
          "text": [
            "Name : Rahul\n",
            "ID : 76080\n",
            "Age : 24\n",
            "Address : Puri\n"
          ]
        }
      ]
    },
    {
      "cell_type": "code",
      "source": [
        "'Name' in mydict9"
      ],
      "metadata": {
        "colab": {
          "base_uri": "https://localhost:8080/"
        },
        "id": "ahy1g7zmw11y",
        "outputId": "51278b58-90f2-476a-eb00-b9527eead902"
      },
      "execution_count": 68,
      "outputs": [
        {
          "output_type": "execute_result",
          "data": {
            "text/plain": [
              "True"
            ]
          },
          "metadata": {},
          "execution_count": 68
        }
      ]
    },
    {
      "cell_type": "code",
      "source": [
        "'Location'in mydict9"
      ],
      "metadata": {
        "colab": {
          "base_uri": "https://localhost:8080/"
        },
        "id": "N-THzL5bxHyt",
        "outputId": "49f54053-500c-40d4-9abf-6b5f9b1b0006"
      },
      "execution_count": 69,
      "outputs": [
        {
          "output_type": "execute_result",
          "data": {
            "text/plain": [
              "False"
            ]
          },
          "metadata": {},
          "execution_count": 69
        }
      ]
    },
    {
      "cell_type": "code",
      "source": [
        "all(mydict9)"
      ],
      "metadata": {
        "colab": {
          "base_uri": "https://localhost:8080/"
        },
        "id": "9dvh7c95xOz3",
        "outputId": "dee05de9-b38d-4581-c5a3-f310f741f3cc"
      },
      "execution_count": 70,
      "outputs": [
        {
          "output_type": "execute_result",
          "data": {
            "text/plain": [
              "True"
            ]
          },
          "metadata": {},
          "execution_count": 70
        }
      ]
    },
    {
      "cell_type": "code",
      "source": [
        "any(mydict9)"
      ],
      "metadata": {
        "colab": {
          "base_uri": "https://localhost:8080/"
        },
        "id": "PEE2OpqXxSzp",
        "outputId": "522ed87a-4e67-4d72-c5cd-b8565e304d35"
      },
      "execution_count": 71,
      "outputs": [
        {
          "output_type": "execute_result",
          "data": {
            "text/plain": [
              "True"
            ]
          },
          "metadata": {},
          "execution_count": 71
        }
      ]
    }
  ]
}